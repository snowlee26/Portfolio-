{
 "cells": [
  {
   "cell_type": "markdown",
   "metadata": {},
   "source": [
    "# Infant Mortality Analysis and Prediction\n",
    "\n",
    "## Background\n",
    "\n",
    "### Problem\n",
    "\n",
    "The infant mortality rate is the number of infant deaths under one year old per 1,000 live births. Infant mortality rate provides us not only the health measures of infant and maternal health, but also the over all health of a certain region. \n",
    "\n",
    "In our case, we gathered data related to general health of all 3141 counties in United States from [healthdata.gov](https://healthdata.gov/dataset/community-health-status-indicators-chsi-combat-obesity-heart-disease-and-cancer). This includes nine different datasets containing over 200 health related measurements. We used MySQL to study the attributes of all datasets and create a dataset containing useful information which can be used for analyzing and predicting infant mortality rates. \n",
    "\n",
    "While we were performing the initial analysis of the infant mortality dataset using Python, we realized that about 9% of all the United States counties are missing the infant mortality values. We will build machine learning models to see if we can predict the infant mortality rates for those counties based on other attributes information.\n",
    " \n",
    "\n",
    "### Objectives \n",
    "\n",
    "* Analyze the factors that have effects on infant mortality rates.\n",
    "* Develop a machine learning model to predict the unknown infant mortality rates. \n",
    "\n",
    "### Dataset Information\n",
    "\n",
    "* The infant mortality dataset was generated from CHSI(Community Health Status Indicators) report, which contains over 200 measures for each of the 3,141 United States counties.\n",
    "* Attributes include:\n",
    "     * ID, County Name, State Name\n",
    "     * LBW: Low Birth Weight(3 pounds 5 ounces)\n",
    "     * VLBW: Very Low Birth Weight(2 pounds 3 ounces)\n",
    "     * Premature: Premature births(less than 37 weeks)\n",
    "     * Under_18: Birth was given by women under 18 years old.\n",
    "     * Over_40: Birth was given by women over 40 years old.\n",
    "     * Unmarried: Birth was given by unmarried women.\n",
    "     * Late_Care: No care in first trimester during the pregnancy."
   ]
  },
  {
   "cell_type": "markdown",
   "metadata": {},
   "source": [
    "## Initial Exploration and Pre-processing"
   ]
  },
  {
   "cell_type": "markdown",
   "metadata": {},
   "source": [
    "**Import the libraries**"
   ]
  },
  {
   "cell_type": "code",
   "execution_count": 307,
   "metadata": {},
   "outputs": [],
   "source": [
    "import pandas as pd\n",
    "import numpy as np\n",
    "import sklearn\n",
    "import matplotlib.pyplot as plt\n",
    "import seaborn as sns"
   ]
  },
  {
   "cell_type": "markdown",
   "metadata": {},
   "source": [
    "**Check the structure and datatype**"
   ]
  },
  {
   "cell_type": "code",
   "execution_count": 286,
   "metadata": {
    "scrolled": true
   },
   "outputs": [
    {
     "data": {
      "text/html": [
       "<div>\n",
       "<style scoped>\n",
       "    .dataframe tbody tr th:only-of-type {\n",
       "        vertical-align: middle;\n",
       "    }\n",
       "\n",
       "    .dataframe tbody tr th {\n",
       "        vertical-align: top;\n",
       "    }\n",
       "\n",
       "    .dataframe thead th {\n",
       "        text-align: right;\n",
       "    }\n",
       "</style>\n",
       "<table border=\"1\" class=\"dataframe\">\n",
       "  <thead>\n",
       "    <tr style=\"text-align: right;\">\n",
       "      <th></th>\n",
       "      <th>id</th>\n",
       "      <th>CHSI_County_Name</th>\n",
       "      <th>CHSI_State_Name</th>\n",
       "      <th>LBW</th>\n",
       "      <th>VLBW</th>\n",
       "      <th>Premature</th>\n",
       "      <th>Under_18</th>\n",
       "      <th>Over_40</th>\n",
       "      <th>Unmarried</th>\n",
       "      <th>Late_Care</th>\n",
       "      <th>Infant_Mortality</th>\n",
       "    </tr>\n",
       "  </thead>\n",
       "  <tbody>\n",
       "    <tr>\n",
       "      <th>0</th>\n",
       "      <td>1</td>\n",
       "      <td>Autauga</td>\n",
       "      <td>Alabama</td>\n",
       "      <td>8.1</td>\n",
       "      <td>1.6</td>\n",
       "      <td>14.3</td>\n",
       "      <td>5.1</td>\n",
       "      <td>1.4</td>\n",
       "      <td>28.0</td>\n",
       "      <td>12.9</td>\n",
       "      <td>5.9</td>\n",
       "    </tr>\n",
       "    <tr>\n",
       "      <th>1</th>\n",
       "      <td>2</td>\n",
       "      <td>Baldwin</td>\n",
       "      <td>Alabama</td>\n",
       "      <td>8.6</td>\n",
       "      <td>1.9</td>\n",
       "      <td>15.3</td>\n",
       "      <td>4.3</td>\n",
       "      <td>1.9</td>\n",
       "      <td>25.4</td>\n",
       "      <td>15.3</td>\n",
       "      <td>7.1</td>\n",
       "    </tr>\n",
       "    <tr>\n",
       "      <th>2</th>\n",
       "      <td>3</td>\n",
       "      <td>Barbour</td>\n",
       "      <td>Alabama</td>\n",
       "      <td>11.0</td>\n",
       "      <td>1.9</td>\n",
       "      <td>16.7</td>\n",
       "      <td>7.7</td>\n",
       "      <td>1.1</td>\n",
       "      <td>50.2</td>\n",
       "      <td>26.0</td>\n",
       "      <td>7.1</td>\n",
       "    </tr>\n",
       "    <tr>\n",
       "      <th>3</th>\n",
       "      <td>4</td>\n",
       "      <td>Bibb</td>\n",
       "      <td>Alabama</td>\n",
       "      <td>8.7</td>\n",
       "      <td>1.7</td>\n",
       "      <td>13.7</td>\n",
       "      <td>6.5</td>\n",
       "      <td>0.9</td>\n",
       "      <td>30.2</td>\n",
       "      <td>16.3</td>\n",
       "      <td>9.8</td>\n",
       "    </tr>\n",
       "    <tr>\n",
       "      <th>4</th>\n",
       "      <td>5</td>\n",
       "      <td>Blount</td>\n",
       "      <td>Alabama</td>\n",
       "      <td>7.6</td>\n",
       "      <td>1.5</td>\n",
       "      <td>12.8</td>\n",
       "      <td>5.0</td>\n",
       "      <td>1.3</td>\n",
       "      <td>19.3</td>\n",
       "      <td>16.7</td>\n",
       "      <td>9.0</td>\n",
       "    </tr>\n",
       "  </tbody>\n",
       "</table>\n",
       "</div>"
      ],
      "text/plain": [
       "   id CHSI_County_Name CHSI_State_Name   LBW  VLBW  Premature  Under_18  \\\n",
       "0   1          Autauga         Alabama   8.1   1.6       14.3       5.1   \n",
       "1   2          Baldwin         Alabama   8.6   1.9       15.3       4.3   \n",
       "2   3          Barbour         Alabama  11.0   1.9       16.7       7.7   \n",
       "3   4             Bibb         Alabama   8.7   1.7       13.7       6.5   \n",
       "4   5           Blount         Alabama   7.6   1.5       12.8       5.0   \n",
       "\n",
       "   Over_40  Unmarried  Late_Care  Infant_Mortality  \n",
       "0      1.4       28.0       12.9               5.9  \n",
       "1      1.9       25.4       15.3               7.1  \n",
       "2      1.1       50.2       26.0               7.1  \n",
       "3      0.9       30.2       16.3               9.8  \n",
       "4      1.3       19.3       16.7               9.0  "
      ]
     },
     "execution_count": 286,
     "metadata": {},
     "output_type": "execute_result"
    }
   ],
   "source": [
    "Birth_IM = pd.read_csv('Birth_IM.csv')\n",
    "Birth_IM.head()"
   ]
  },
  {
   "cell_type": "code",
   "execution_count": 205,
   "metadata": {
    "scrolled": false
   },
   "outputs": [
    {
     "name": "stdout",
     "output_type": "stream",
     "text": [
      "<class 'pandas.core.frame.DataFrame'>\n",
      "RangeIndex: 3141 entries, 0 to 3140\n",
      "Data columns (total 11 columns):\n",
      "id                  3141 non-null int64\n",
      "CHSI_County_Name    3141 non-null object\n",
      "CHSI_State_Name     3141 non-null object\n",
      "LBW                 3141 non-null float64\n",
      "VLBW                3141 non-null float64\n",
      "Premature           3141 non-null float64\n",
      "Under_18            3141 non-null float64\n",
      "Over_40             3141 non-null float64\n",
      "Unmarried           3141 non-null float64\n",
      "Late_Care           3141 non-null float64\n",
      "Infant_Mortality    3141 non-null float64\n",
      "dtypes: float64(8), int64(1), object(2)\n",
      "memory usage: 270.0+ KB\n"
     ]
    }
   ],
   "source": [
    "Birth_IM.info()"
   ]
  },
  {
   "cell_type": "markdown",
   "metadata": {},
   "source": [
    "**Check outliers and missing values**"
   ]
  },
  {
   "cell_type": "code",
   "execution_count": 51,
   "metadata": {
    "scrolled": true
   },
   "outputs": [
    {
     "data": {
      "text/html": [
       "<div>\n",
       "<style scoped>\n",
       "    .dataframe tbody tr th:only-of-type {\n",
       "        vertical-align: middle;\n",
       "    }\n",
       "\n",
       "    .dataframe tbody tr th {\n",
       "        vertical-align: top;\n",
       "    }\n",
       "\n",
       "    .dataframe thead th {\n",
       "        text-align: right;\n",
       "    }\n",
       "</style>\n",
       "<table border=\"1\" class=\"dataframe\">\n",
       "  <thead>\n",
       "    <tr style=\"text-align: right;\">\n",
       "      <th></th>\n",
       "      <th>id</th>\n",
       "      <th>LBW</th>\n",
       "      <th>VLBW</th>\n",
       "      <th>Premature</th>\n",
       "      <th>Under_18</th>\n",
       "      <th>Over_40</th>\n",
       "      <th>Unmarried</th>\n",
       "      <th>Late_Care</th>\n",
       "      <th>Infant_Mortality</th>\n",
       "    </tr>\n",
       "  </thead>\n",
       "  <tbody>\n",
       "    <tr>\n",
       "      <th>count</th>\n",
       "      <td>3141.000000</td>\n",
       "      <td>3141.000000</td>\n",
       "      <td>3141.000000</td>\n",
       "      <td>3141.000000</td>\n",
       "      <td>3141.000000</td>\n",
       "      <td>3141.000000</td>\n",
       "      <td>3141.000000</td>\n",
       "      <td>3141.000000</td>\n",
       "      <td>3141.000000</td>\n",
       "    </tr>\n",
       "    <tr>\n",
       "      <th>mean</th>\n",
       "      <td>1571.000000</td>\n",
       "      <td>-3.824992</td>\n",
       "      <td>-75.128208</td>\n",
       "      <td>5.445782</td>\n",
       "      <td>-23.668609</td>\n",
       "      <td>-44.669214</td>\n",
       "      <td>29.164343</td>\n",
       "      <td>-59.234129</td>\n",
       "      <td>-88.734607</td>\n",
       "    </tr>\n",
       "    <tr>\n",
       "      <th>std</th>\n",
       "      <td>906.872924</td>\n",
       "      <td>115.815180</td>\n",
       "      <td>282.959840</td>\n",
       "      <td>89.329406</td>\n",
       "      <td>178.062926</td>\n",
       "      <td>224.274166</td>\n",
       "      <td>65.065976</td>\n",
       "      <td>407.310441</td>\n",
       "      <td>314.837792</td>\n",
       "    </tr>\n",
       "    <tr>\n",
       "      <th>min</th>\n",
       "      <td>1.000000</td>\n",
       "      <td>-2222.200000</td>\n",
       "      <td>-2222.200000</td>\n",
       "      <td>-2222.200000</td>\n",
       "      <td>-2222.200000</td>\n",
       "      <td>-2222.200000</td>\n",
       "      <td>-2222.200000</td>\n",
       "      <td>-2222.200000</td>\n",
       "      <td>-2222.200000</td>\n",
       "    </tr>\n",
       "    <tr>\n",
       "      <th>25%</th>\n",
       "      <td>786.000000</td>\n",
       "      <td>6.300000</td>\n",
       "      <td>1.000000</td>\n",
       "      <td>10.200000</td>\n",
       "      <td>2.900000</td>\n",
       "      <td>1.100000</td>\n",
       "      <td>24.600000</td>\n",
       "      <td>12.600000</td>\n",
       "      <td>5.000000</td>\n",
       "    </tr>\n",
       "    <tr>\n",
       "      <th>50%</th>\n",
       "      <td>1571.000000</td>\n",
       "      <td>7.300000</td>\n",
       "      <td>1.300000</td>\n",
       "      <td>11.700000</td>\n",
       "      <td>4.300000</td>\n",
       "      <td>1.500000</td>\n",
       "      <td>30.400000</td>\n",
       "      <td>16.500000</td>\n",
       "      <td>6.700000</td>\n",
       "    </tr>\n",
       "    <tr>\n",
       "      <th>75%</th>\n",
       "      <td>2356.000000</td>\n",
       "      <td>8.600000</td>\n",
       "      <td>1.600000</td>\n",
       "      <td>13.200000</td>\n",
       "      <td>6.000000</td>\n",
       "      <td>2.100000</td>\n",
       "      <td>38.200000</td>\n",
       "      <td>21.200000</td>\n",
       "      <td>8.700000</td>\n",
       "    </tr>\n",
       "    <tr>\n",
       "      <th>max</th>\n",
       "      <td>3141.000000</td>\n",
       "      <td>15.600000</td>\n",
       "      <td>3.600000</td>\n",
       "      <td>23.500000</td>\n",
       "      <td>14.500000</td>\n",
       "      <td>9.100000</td>\n",
       "      <td>77.900000</td>\n",
       "      <td>53.500000</td>\n",
       "      <td>23.700000</td>\n",
       "    </tr>\n",
       "  </tbody>\n",
       "</table>\n",
       "</div>"
      ],
      "text/plain": [
       "                id          LBW         VLBW    Premature     Under_18  \\\n",
       "count  3141.000000  3141.000000  3141.000000  3141.000000  3141.000000   \n",
       "mean   1571.000000    -3.824992   -75.128208     5.445782   -23.668609   \n",
       "std     906.872924   115.815180   282.959840    89.329406   178.062926   \n",
       "min       1.000000 -2222.200000 -2222.200000 -2222.200000 -2222.200000   \n",
       "25%     786.000000     6.300000     1.000000    10.200000     2.900000   \n",
       "50%    1571.000000     7.300000     1.300000    11.700000     4.300000   \n",
       "75%    2356.000000     8.600000     1.600000    13.200000     6.000000   \n",
       "max    3141.000000    15.600000     3.600000    23.500000    14.500000   \n",
       "\n",
       "           Over_40    Unmarried    Late_Care  Infant_Mortality  \n",
       "count  3141.000000  3141.000000  3141.000000       3141.000000  \n",
       "mean    -44.669214    29.164343   -59.234129        -88.734607  \n",
       "std     224.274166    65.065976   407.310441        314.837792  \n",
       "min   -2222.200000 -2222.200000 -2222.200000      -2222.200000  \n",
       "25%       1.100000    24.600000    12.600000          5.000000  \n",
       "50%       1.500000    30.400000    16.500000          6.700000  \n",
       "75%       2.100000    38.200000    21.200000          8.700000  \n",
       "max       9.100000    77.900000    53.500000         23.700000  "
      ]
     },
     "execution_count": 51,
     "metadata": {},
     "output_type": "execute_result"
    }
   ],
   "source": [
    "Birth_IM.describe()"
   ]
  },
  {
   "cell_type": "markdown",
   "metadata": {},
   "source": [
    "Here, we use describe() function to check various statstics of the dataset. We know that all the measures are in percentage(besides ID), minimum value of -2222.2 is impossible, it could stand for unreported values. \n",
    "\n",
    "We will convert entries with value of -2222.2 to NAN, which stands for missing values, so we can work on them later. "
   ]
  },
  {
   "cell_type": "code",
   "execution_count": 287,
   "metadata": {
    "scrolled": false
   },
   "outputs": [
    {
     "data": {
      "text/html": [
       "<div>\n",
       "<style scoped>\n",
       "    .dataframe tbody tr th:only-of-type {\n",
       "        vertical-align: middle;\n",
       "    }\n",
       "\n",
       "    .dataframe tbody tr th {\n",
       "        vertical-align: top;\n",
       "    }\n",
       "\n",
       "    .dataframe thead th {\n",
       "        text-align: right;\n",
       "    }\n",
       "</style>\n",
       "<table border=\"1\" class=\"dataframe\">\n",
       "  <thead>\n",
       "    <tr style=\"text-align: right;\">\n",
       "      <th></th>\n",
       "      <th>id</th>\n",
       "      <th>LBW</th>\n",
       "      <th>VLBW</th>\n",
       "      <th>Premature</th>\n",
       "      <th>Under_18</th>\n",
       "      <th>Over_40</th>\n",
       "      <th>Unmarried</th>\n",
       "      <th>Late_Care</th>\n",
       "      <th>Infant_Mortality</th>\n",
       "    </tr>\n",
       "  </thead>\n",
       "  <tbody>\n",
       "    <tr>\n",
       "      <th>count</th>\n",
       "      <td>3141.000000</td>\n",
       "      <td>3140.000000</td>\n",
       "      <td>3140.000000</td>\n",
       "      <td>3140.000000</td>\n",
       "      <td>3140.000000</td>\n",
       "      <td>3140.000000</td>\n",
       "      <td>3140.000000</td>\n",
       "      <td>3034.000000</td>\n",
       "      <td>3140.000000</td>\n",
       "    </tr>\n",
       "    <tr>\n",
       "      <th>mean</th>\n",
       "      <td>1571.000000</td>\n",
       "      <td>-3.118503</td>\n",
       "      <td>-74.444427</td>\n",
       "      <td>6.155223</td>\n",
       "      <td>-22.968439</td>\n",
       "      <td>-43.975732</td>\n",
       "      <td>29.881338</td>\n",
       "      <td>17.047132</td>\n",
       "      <td>-88.055159</td>\n",
       "    </tr>\n",
       "    <tr>\n",
       "      <th>std</th>\n",
       "      <td>906.872924</td>\n",
       "      <td>108.853907</td>\n",
       "      <td>280.397425</td>\n",
       "      <td>80.005587</td>\n",
       "      <td>173.712929</td>\n",
       "      <td>220.916017</td>\n",
       "      <td>51.182853</td>\n",
       "      <td>29.760102</td>\n",
       "      <td>312.576249</td>\n",
       "    </tr>\n",
       "    <tr>\n",
       "      <th>min</th>\n",
       "      <td>1.000000</td>\n",
       "      <td>-1111.100000</td>\n",
       "      <td>-1111.100000</td>\n",
       "      <td>-1111.100000</td>\n",
       "      <td>-1111.100000</td>\n",
       "      <td>-1111.100000</td>\n",
       "      <td>-1111.100000</td>\n",
       "      <td>-1111.100000</td>\n",
       "      <td>-1111.100000</td>\n",
       "    </tr>\n",
       "    <tr>\n",
       "      <th>25%</th>\n",
       "      <td>786.000000</td>\n",
       "      <td>6.300000</td>\n",
       "      <td>1.000000</td>\n",
       "      <td>10.200000</td>\n",
       "      <td>2.900000</td>\n",
       "      <td>1.100000</td>\n",
       "      <td>24.600000</td>\n",
       "      <td>13.000000</td>\n",
       "      <td>5.000000</td>\n",
       "    </tr>\n",
       "    <tr>\n",
       "      <th>50%</th>\n",
       "      <td>1571.000000</td>\n",
       "      <td>7.300000</td>\n",
       "      <td>1.300000</td>\n",
       "      <td>11.700000</td>\n",
       "      <td>4.300000</td>\n",
       "      <td>1.500000</td>\n",
       "      <td>30.400000</td>\n",
       "      <td>16.800000</td>\n",
       "      <td>6.700000</td>\n",
       "    </tr>\n",
       "    <tr>\n",
       "      <th>75%</th>\n",
       "      <td>2356.000000</td>\n",
       "      <td>8.600000</td>\n",
       "      <td>1.600000</td>\n",
       "      <td>13.200000</td>\n",
       "      <td>6.000000</td>\n",
       "      <td>2.100000</td>\n",
       "      <td>38.200000</td>\n",
       "      <td>21.400000</td>\n",
       "      <td>8.700000</td>\n",
       "    </tr>\n",
       "    <tr>\n",
       "      <th>max</th>\n",
       "      <td>3141.000000</td>\n",
       "      <td>15.600000</td>\n",
       "      <td>3.600000</td>\n",
       "      <td>23.500000</td>\n",
       "      <td>14.500000</td>\n",
       "      <td>9.100000</td>\n",
       "      <td>77.900000</td>\n",
       "      <td>53.500000</td>\n",
       "      <td>23.700000</td>\n",
       "    </tr>\n",
       "  </tbody>\n",
       "</table>\n",
       "</div>"
      ],
      "text/plain": [
       "                id          LBW         VLBW    Premature     Under_18  \\\n",
       "count  3141.000000  3140.000000  3140.000000  3140.000000  3140.000000   \n",
       "mean   1571.000000    -3.118503   -74.444427     6.155223   -22.968439   \n",
       "std     906.872924   108.853907   280.397425    80.005587   173.712929   \n",
       "min       1.000000 -1111.100000 -1111.100000 -1111.100000 -1111.100000   \n",
       "25%     786.000000     6.300000     1.000000    10.200000     2.900000   \n",
       "50%    1571.000000     7.300000     1.300000    11.700000     4.300000   \n",
       "75%    2356.000000     8.600000     1.600000    13.200000     6.000000   \n",
       "max    3141.000000    15.600000     3.600000    23.500000    14.500000   \n",
       "\n",
       "           Over_40    Unmarried    Late_Care  Infant_Mortality  \n",
       "count  3140.000000  3140.000000  3034.000000       3140.000000  \n",
       "mean    -43.975732    29.881338    17.047132        -88.055159  \n",
       "std     220.916017    51.182853    29.760102        312.576249  \n",
       "min   -1111.100000 -1111.100000 -1111.100000      -1111.100000  \n",
       "25%       1.100000    24.600000    13.000000          5.000000  \n",
       "50%       1.500000    30.400000    16.800000          6.700000  \n",
       "75%       2.100000    38.200000    21.400000          8.700000  \n",
       "max       9.100000    77.900000    53.500000         23.700000  "
      ]
     },
     "execution_count": 287,
     "metadata": {},
     "output_type": "execute_result"
    }
   ],
   "source": [
    "# change -2222.2 to NAN\n",
    "Birth_IM = Birth_IM.replace(-2222.2, np.nan)\n",
    "Birth_IM.describe()"
   ]
  },
  {
   "cell_type": "markdown",
   "metadata": {},
   "source": [
    "Now, the minimum values of all atrributes become -1111.1, we will convert those values to NAN also. "
   ]
  },
  {
   "cell_type": "code",
   "execution_count": 288,
   "metadata": {},
   "outputs": [
    {
     "data": {
      "text/html": [
       "<div>\n",
       "<style scoped>\n",
       "    .dataframe tbody tr th:only-of-type {\n",
       "        vertical-align: middle;\n",
       "    }\n",
       "\n",
       "    .dataframe tbody tr th {\n",
       "        vertical-align: top;\n",
       "    }\n",
       "\n",
       "    .dataframe thead th {\n",
       "        text-align: right;\n",
       "    }\n",
       "</style>\n",
       "<table border=\"1\" class=\"dataframe\">\n",
       "  <thead>\n",
       "    <tr style=\"text-align: right;\">\n",
       "      <th></th>\n",
       "      <th>id</th>\n",
       "      <th>LBW</th>\n",
       "      <th>VLBW</th>\n",
       "      <th>Premature</th>\n",
       "      <th>Under_18</th>\n",
       "      <th>Over_40</th>\n",
       "      <th>Unmarried</th>\n",
       "      <th>Late_Care</th>\n",
       "      <th>Infant_Mortality</th>\n",
       "    </tr>\n",
       "  </thead>\n",
       "  <tbody>\n",
       "    <tr>\n",
       "      <th>count</th>\n",
       "      <td>3141.000000</td>\n",
       "      <td>3110.000000</td>\n",
       "      <td>2926.000000</td>\n",
       "      <td>3124.000000</td>\n",
       "      <td>3062.000000</td>\n",
       "      <td>3011.000000</td>\n",
       "      <td>3134.000000</td>\n",
       "      <td>3032.000000</td>\n",
       "      <td>2872.000000</td>\n",
       "    </tr>\n",
       "    <tr>\n",
       "      <th>mean</th>\n",
       "      <td>1571.000000</td>\n",
       "      <td>7.569421</td>\n",
       "      <td>1.373855</td>\n",
       "      <td>11.877401</td>\n",
       "      <td>4.750131</td>\n",
       "      <td>1.742976</td>\n",
       "      <td>32.065731</td>\n",
       "      <td>17.791293</td>\n",
       "      <td>7.410028</td>\n",
       "    </tr>\n",
       "    <tr>\n",
       "      <th>std</th>\n",
       "      <td>906.872924</td>\n",
       "      <td>1.846797</td>\n",
       "      <td>0.499596</td>\n",
       "      <td>2.398650</td>\n",
       "      <td>2.291837</td>\n",
       "      <td>0.914043</td>\n",
       "      <td>11.259706</td>\n",
       "      <td>6.774566</td>\n",
       "      <td>2.888455</td>\n",
       "    </tr>\n",
       "    <tr>\n",
       "      <th>min</th>\n",
       "      <td>1.000000</td>\n",
       "      <td>2.100000</td>\n",
       "      <td>0.200000</td>\n",
       "      <td>5.100000</td>\n",
       "      <td>0.300000</td>\n",
       "      <td>0.200000</td>\n",
       "      <td>6.100000</td>\n",
       "      <td>2.000000</td>\n",
       "      <td>0.000000</td>\n",
       "    </tr>\n",
       "    <tr>\n",
       "      <th>25%</th>\n",
       "      <td>786.000000</td>\n",
       "      <td>6.300000</td>\n",
       "      <td>1.000000</td>\n",
       "      <td>10.200000</td>\n",
       "      <td>3.000000</td>\n",
       "      <td>1.100000</td>\n",
       "      <td>24.700000</td>\n",
       "      <td>13.000000</td>\n",
       "      <td>5.500000</td>\n",
       "    </tr>\n",
       "    <tr>\n",
       "      <th>50%</th>\n",
       "      <td>1571.000000</td>\n",
       "      <td>7.400000</td>\n",
       "      <td>1.300000</td>\n",
       "      <td>11.700000</td>\n",
       "      <td>4.400000</td>\n",
       "      <td>1.500000</td>\n",
       "      <td>30.500000</td>\n",
       "      <td>16.800000</td>\n",
       "      <td>7.000000</td>\n",
       "    </tr>\n",
       "    <tr>\n",
       "      <th>75%</th>\n",
       "      <td>2356.000000</td>\n",
       "      <td>8.600000</td>\n",
       "      <td>1.600000</td>\n",
       "      <td>13.200000</td>\n",
       "      <td>6.000000</td>\n",
       "      <td>2.100000</td>\n",
       "      <td>38.200000</td>\n",
       "      <td>21.400000</td>\n",
       "      <td>8.900000</td>\n",
       "    </tr>\n",
       "    <tr>\n",
       "      <th>max</th>\n",
       "      <td>3141.000000</td>\n",
       "      <td>15.600000</td>\n",
       "      <td>3.600000</td>\n",
       "      <td>23.500000</td>\n",
       "      <td>14.500000</td>\n",
       "      <td>9.100000</td>\n",
       "      <td>77.900000</td>\n",
       "      <td>53.500000</td>\n",
       "      <td>23.700000</td>\n",
       "    </tr>\n",
       "  </tbody>\n",
       "</table>\n",
       "</div>"
      ],
      "text/plain": [
       "                id          LBW         VLBW    Premature     Under_18  \\\n",
       "count  3141.000000  3110.000000  2926.000000  3124.000000  3062.000000   \n",
       "mean   1571.000000     7.569421     1.373855    11.877401     4.750131   \n",
       "std     906.872924     1.846797     0.499596     2.398650     2.291837   \n",
       "min       1.000000     2.100000     0.200000     5.100000     0.300000   \n",
       "25%     786.000000     6.300000     1.000000    10.200000     3.000000   \n",
       "50%    1571.000000     7.400000     1.300000    11.700000     4.400000   \n",
       "75%    2356.000000     8.600000     1.600000    13.200000     6.000000   \n",
       "max    3141.000000    15.600000     3.600000    23.500000    14.500000   \n",
       "\n",
       "           Over_40    Unmarried    Late_Care  Infant_Mortality  \n",
       "count  3011.000000  3134.000000  3032.000000       2872.000000  \n",
       "mean      1.742976    32.065731    17.791293          7.410028  \n",
       "std       0.914043    11.259706     6.774566          2.888455  \n",
       "min       0.200000     6.100000     2.000000          0.000000  \n",
       "25%       1.100000    24.700000    13.000000          5.500000  \n",
       "50%       1.500000    30.500000    16.800000          7.000000  \n",
       "75%       2.100000    38.200000    21.400000          8.900000  \n",
       "max       9.100000    77.900000    53.500000         23.700000  "
      ]
     },
     "execution_count": 288,
     "metadata": {},
     "output_type": "execute_result"
    }
   ],
   "source": [
    "# convert -1111.1 to NAN\n",
    "Birth_IM = Birth_IM.replace(-1111.1, np.nan)\n",
    "Birth_IM.describe()"
   ]
  },
  {
   "cell_type": "markdown",
   "metadata": {},
   "source": [
    "Now, all statstic numbers looks normal and we have convert all missing values to the correct format. "
   ]
  },
  {
   "cell_type": "markdown",
   "metadata": {},
   "source": [
    "**Rename attributes**"
   ]
  },
  {
   "cell_type": "code",
   "execution_count": 289,
   "metadata": {},
   "outputs": [
    {
     "data": {
      "text/plain": [
       "Index(['ID', 'County_Name', 'State_Name', 'LBW', 'VLBW', 'Premature',\n",
       "       'Under_18', 'Over_40', 'Unmarried', 'Late_Care', 'Infant_Mortality'],\n",
       "      dtype='object')"
      ]
     },
     "execution_count": 289,
     "metadata": {},
     "output_type": "execute_result"
    }
   ],
   "source": [
    "# rename attributes\n",
    "Birth_IM = Birth_IM.rename(columns={'id':'ID','CHSI_County_Name':'County_Name', 'CHSI_State_Name':'State_Name',\n",
    "                                   'MOBD_Time_Span':'Time_Span'})\n",
    "# check all columns names\n",
    "Birth_IM.columns"
   ]
  },
  {
   "cell_type": "markdown",
   "metadata": {},
   "source": [
    "**Work on missing values**\n",
    "\n",
    "* Count missing values for each attributes."
   ]
  },
  {
   "cell_type": "code",
   "execution_count": 290,
   "metadata": {},
   "outputs": [
    {
     "data": {
      "text/plain": [
       "ID                    0\n",
       "County_Name           0\n",
       "State_Name            0\n",
       "LBW                  31\n",
       "VLBW                215\n",
       "Premature            17\n",
       "Under_18             79\n",
       "Over_40             130\n",
       "Unmarried             7\n",
       "Late_Care           109\n",
       "Infant_Mortality    269\n",
       "dtype: int64"
      ]
     },
     "execution_count": 290,
     "metadata": {},
     "output_type": "execute_result"
    }
   ],
   "source": [
    "Birth_IM.isnull().sum()"
   ]
  },
  {
   "cell_type": "markdown",
   "metadata": {},
   "source": [
    "* Split the dataset into two \n",
    "\n",
    "Here is when we realized that 269 counties among all 3141 counties don't have reported infant mortality rates. We split the dataset into two subsets. One with known infant mortality rates is for developing a machine learning model. The other one with unkonwn infant mortality rates is for make the prediction. "
   ]
  },
  {
   "cell_type": "code",
   "execution_count": 291,
   "metadata": {},
   "outputs": [
    {
     "data": {
      "text/html": [
       "<div>\n",
       "<style scoped>\n",
       "    .dataframe tbody tr th:only-of-type {\n",
       "        vertical-align: middle;\n",
       "    }\n",
       "\n",
       "    .dataframe tbody tr th {\n",
       "        vertical-align: top;\n",
       "    }\n",
       "\n",
       "    .dataframe thead th {\n",
       "        text-align: right;\n",
       "    }\n",
       "</style>\n",
       "<table border=\"1\" class=\"dataframe\">\n",
       "  <thead>\n",
       "    <tr style=\"text-align: right;\">\n",
       "      <th></th>\n",
       "      <th>ID</th>\n",
       "      <th>County_Name</th>\n",
       "      <th>State_Name</th>\n",
       "      <th>LBW</th>\n",
       "      <th>VLBW</th>\n",
       "      <th>Premature</th>\n",
       "      <th>Under_18</th>\n",
       "      <th>Over_40</th>\n",
       "      <th>Unmarried</th>\n",
       "      <th>Late_Care</th>\n",
       "      <th>Infant_Mortality</th>\n",
       "    </tr>\n",
       "  </thead>\n",
       "  <tbody>\n",
       "    <tr>\n",
       "      <th>0</th>\n",
       "      <td>1</td>\n",
       "      <td>Autauga</td>\n",
       "      <td>Alabama</td>\n",
       "      <td>8.1</td>\n",
       "      <td>1.6</td>\n",
       "      <td>14.3</td>\n",
       "      <td>5.1</td>\n",
       "      <td>1.4</td>\n",
       "      <td>28.0</td>\n",
       "      <td>12.9</td>\n",
       "      <td>5.9</td>\n",
       "    </tr>\n",
       "    <tr>\n",
       "      <th>1</th>\n",
       "      <td>2</td>\n",
       "      <td>Baldwin</td>\n",
       "      <td>Alabama</td>\n",
       "      <td>8.6</td>\n",
       "      <td>1.9</td>\n",
       "      <td>15.3</td>\n",
       "      <td>4.3</td>\n",
       "      <td>1.9</td>\n",
       "      <td>25.4</td>\n",
       "      <td>15.3</td>\n",
       "      <td>7.1</td>\n",
       "    </tr>\n",
       "    <tr>\n",
       "      <th>2</th>\n",
       "      <td>3</td>\n",
       "      <td>Barbour</td>\n",
       "      <td>Alabama</td>\n",
       "      <td>11.0</td>\n",
       "      <td>1.9</td>\n",
       "      <td>16.7</td>\n",
       "      <td>7.7</td>\n",
       "      <td>1.1</td>\n",
       "      <td>50.2</td>\n",
       "      <td>26.0</td>\n",
       "      <td>7.1</td>\n",
       "    </tr>\n",
       "    <tr>\n",
       "      <th>3</th>\n",
       "      <td>4</td>\n",
       "      <td>Bibb</td>\n",
       "      <td>Alabama</td>\n",
       "      <td>8.7</td>\n",
       "      <td>1.7</td>\n",
       "      <td>13.7</td>\n",
       "      <td>6.5</td>\n",
       "      <td>0.9</td>\n",
       "      <td>30.2</td>\n",
       "      <td>16.3</td>\n",
       "      <td>9.8</td>\n",
       "    </tr>\n",
       "    <tr>\n",
       "      <th>4</th>\n",
       "      <td>5</td>\n",
       "      <td>Blount</td>\n",
       "      <td>Alabama</td>\n",
       "      <td>7.6</td>\n",
       "      <td>1.5</td>\n",
       "      <td>12.8</td>\n",
       "      <td>5.0</td>\n",
       "      <td>1.3</td>\n",
       "      <td>19.3</td>\n",
       "      <td>16.7</td>\n",
       "      <td>9.0</td>\n",
       "    </tr>\n",
       "  </tbody>\n",
       "</table>\n",
       "</div>"
      ],
      "text/plain": [
       "   ID County_Name State_Name   LBW  VLBW  Premature  Under_18  Over_40  \\\n",
       "0   1     Autauga    Alabama   8.1   1.6       14.3       5.1      1.4   \n",
       "1   2     Baldwin    Alabama   8.6   1.9       15.3       4.3      1.9   \n",
       "2   3     Barbour    Alabama  11.0   1.9       16.7       7.7      1.1   \n",
       "3   4        Bibb    Alabama   8.7   1.7       13.7       6.5      0.9   \n",
       "4   5      Blount    Alabama   7.6   1.5       12.8       5.0      1.3   \n",
       "\n",
       "   Unmarried  Late_Care  Infant_Mortality  \n",
       "0       28.0       12.9               5.9  \n",
       "1       25.4       15.3               7.1  \n",
       "2       50.2       26.0               7.1  \n",
       "3       30.2       16.3               9.8  \n",
       "4       19.3       16.7               9.0  "
      ]
     },
     "execution_count": 291,
     "metadata": {},
     "output_type": "execute_result"
    }
   ],
   "source": [
    "# create a dataset with known infant mortality rates\n",
    "IM = Birth_IM[Birth_IM.Infant_Mortality.notnull()]\n",
    "IM.head()"
   ]
  },
  {
   "cell_type": "code",
   "execution_count": 292,
   "metadata": {},
   "outputs": [
    {
     "data": {
      "text/html": [
       "<div>\n",
       "<style scoped>\n",
       "    .dataframe tbody tr th:only-of-type {\n",
       "        vertical-align: middle;\n",
       "    }\n",
       "\n",
       "    .dataframe tbody tr th {\n",
       "        vertical-align: top;\n",
       "    }\n",
       "\n",
       "    .dataframe thead th {\n",
       "        text-align: right;\n",
       "    }\n",
       "</style>\n",
       "<table border=\"1\" class=\"dataframe\">\n",
       "  <thead>\n",
       "    <tr style=\"text-align: right;\">\n",
       "      <th></th>\n",
       "      <th>ID</th>\n",
       "      <th>County_Name</th>\n",
       "      <th>State_Name</th>\n",
       "      <th>LBW</th>\n",
       "      <th>VLBW</th>\n",
       "      <th>Premature</th>\n",
       "      <th>Under_18</th>\n",
       "      <th>Over_40</th>\n",
       "      <th>Unmarried</th>\n",
       "      <th>Late_Care</th>\n",
       "      <th>Infant_Mortality</th>\n",
       "    </tr>\n",
       "  </thead>\n",
       "  <tbody>\n",
       "    <tr>\n",
       "      <th>67</th>\n",
       "      <td>68</td>\n",
       "      <td>Aleutians East</td>\n",
       "      <td>Alaska</td>\n",
       "      <td>3.6</td>\n",
       "      <td>NaN</td>\n",
       "      <td>9.9</td>\n",
       "      <td>3.6</td>\n",
       "      <td>NaN</td>\n",
       "      <td>47.3</td>\n",
       "      <td>17.7</td>\n",
       "      <td>NaN</td>\n",
       "    </tr>\n",
       "    <tr>\n",
       "      <th>68</th>\n",
       "      <td>69</td>\n",
       "      <td>Aleutians West</td>\n",
       "      <td>Alaska</td>\n",
       "      <td>5.0</td>\n",
       "      <td>NaN</td>\n",
       "      <td>8.2</td>\n",
       "      <td>2.2</td>\n",
       "      <td>2.9</td>\n",
       "      <td>28.2</td>\n",
       "      <td>18.9</td>\n",
       "      <td>NaN</td>\n",
       "    </tr>\n",
       "    <tr>\n",
       "      <th>71</th>\n",
       "      <td>72</td>\n",
       "      <td>Bristol Bay</td>\n",
       "      <td>Alaska</td>\n",
       "      <td>NaN</td>\n",
       "      <td>NaN</td>\n",
       "      <td>7.5</td>\n",
       "      <td>3.8</td>\n",
       "      <td>4.3</td>\n",
       "      <td>28.5</td>\n",
       "      <td>12.6</td>\n",
       "      <td>NaN</td>\n",
       "    </tr>\n",
       "    <tr>\n",
       "      <th>72</th>\n",
       "      <td>73</td>\n",
       "      <td>Denali</td>\n",
       "      <td>Alaska</td>\n",
       "      <td>NaN</td>\n",
       "      <td>NaN</td>\n",
       "      <td>NaN</td>\n",
       "      <td>NaN</td>\n",
       "      <td>NaN</td>\n",
       "      <td>NaN</td>\n",
       "      <td>30.4</td>\n",
       "      <td>NaN</td>\n",
       "    </tr>\n",
       "    <tr>\n",
       "      <th>75</th>\n",
       "      <td>76</td>\n",
       "      <td>Haines</td>\n",
       "      <td>Alaska</td>\n",
       "      <td>5.6</td>\n",
       "      <td>NaN</td>\n",
       "      <td>8.2</td>\n",
       "      <td>2.5</td>\n",
       "      <td>4.5</td>\n",
       "      <td>29.3</td>\n",
       "      <td>24.9</td>\n",
       "      <td>NaN</td>\n",
       "    </tr>\n",
       "  </tbody>\n",
       "</table>\n",
       "</div>"
      ],
      "text/plain": [
       "    ID     County_Name State_Name  LBW  VLBW  Premature  Under_18  Over_40  \\\n",
       "67  68  Aleutians East     Alaska  3.6   NaN        9.9       3.6      NaN   \n",
       "68  69  Aleutians West     Alaska  5.0   NaN        8.2       2.2      2.9   \n",
       "71  72     Bristol Bay     Alaska  NaN   NaN        7.5       3.8      4.3   \n",
       "72  73          Denali     Alaska  NaN   NaN        NaN       NaN      NaN   \n",
       "75  76          Haines     Alaska  5.6   NaN        8.2       2.5      4.5   \n",
       "\n",
       "    Unmarried  Late_Care  Infant_Mortality  \n",
       "67       47.3       17.7               NaN  \n",
       "68       28.2       18.9               NaN  \n",
       "71       28.5       12.6               NaN  \n",
       "72        NaN       30.4               NaN  \n",
       "75       29.3       24.9               NaN  "
      ]
     },
     "execution_count": 292,
     "metadata": {},
     "output_type": "execute_result"
    }
   ],
   "source": [
    "# create a dataset with unknown infant mortality rates\n",
    "IM_missing = Birth_IM[Birth_IM.Infant_Mortality.isnull()]\n",
    "IM_missing.head()"
   ]
  },
  {
   "cell_type": "markdown",
   "metadata": {},
   "source": [
    "* Check the ramaining missing value for the IM dataset with known infant mortality values."
   ]
  },
  {
   "cell_type": "code",
   "execution_count": 293,
   "metadata": {},
   "outputs": [
    {
     "data": {
      "text/plain": [
       "ID                    0\n",
       "County_Name           0\n",
       "State_Name            0\n",
       "LBW                   0\n",
       "VLBW                  4\n",
       "Premature             0\n",
       "Under_18              0\n",
       "Over_40               5\n",
       "Unmarried             0\n",
       "Late_Care           102\n",
       "Infant_Mortality      0\n",
       "dtype: int64"
      ]
     },
     "execution_count": 293,
     "metadata": {},
     "output_type": "execute_result"
    }
   ],
   "source": [
    "IM.isnull().sum()"
   ]
  },
  {
   "cell_type": "markdown",
   "metadata": {},
   "source": [
    "* Use mean values to replace the remaining missing values."
   ]
  },
  {
   "cell_type": "code",
   "execution_count": 294,
   "metadata": {},
   "outputs": [
    {
     "name": "stderr",
     "output_type": "stream",
     "text": [
      "/Users/snowli/anaconda3/lib/python3.7/site-packages/pandas/core/generic.py:6130: SettingWithCopyWarning: \n",
      "A value is trying to be set on a copy of a slice from a DataFrame\n",
      "\n",
      "See the caveats in the documentation: http://pandas.pydata.org/pandas-docs/stable/indexing.html#indexing-view-versus-copy\n",
      "  self._update_inplace(new_data)\n"
     ]
    },
    {
     "data": {
      "text/plain": [
       "ID                  0\n",
       "County_Name         0\n",
       "State_Name          0\n",
       "LBW                 0\n",
       "VLBW                0\n",
       "Premature           0\n",
       "Under_18            0\n",
       "Over_40             0\n",
       "Unmarried           0\n",
       "Late_Care           0\n",
       "Infant_Mortality    0\n",
       "dtype: int64"
      ]
     },
     "execution_count": 294,
     "metadata": {},
     "output_type": "execute_result"
    }
   ],
   "source": [
    "IM.fillna(IM.mean(), inplace=True)\n",
    "IM.isnull().sum()"
   ]
  },
  {
   "cell_type": "markdown",
   "metadata": {},
   "source": [
    "**Create a final dataset for machine learning**\n",
    "\n",
    "We drop 'ID', 'County_Name' and 'State_Name' columns since it doesn't contain useful information for the prediction. "
   ]
  },
  {
   "cell_type": "code",
   "execution_count": 295,
   "metadata": {},
   "outputs": [
    {
     "data": {
      "text/html": [
       "<div>\n",
       "<style scoped>\n",
       "    .dataframe tbody tr th:only-of-type {\n",
       "        vertical-align: middle;\n",
       "    }\n",
       "\n",
       "    .dataframe tbody tr th {\n",
       "        vertical-align: top;\n",
       "    }\n",
       "\n",
       "    .dataframe thead th {\n",
       "        text-align: right;\n",
       "    }\n",
       "</style>\n",
       "<table border=\"1\" class=\"dataframe\">\n",
       "  <thead>\n",
       "    <tr style=\"text-align: right;\">\n",
       "      <th></th>\n",
       "      <th>LBW</th>\n",
       "      <th>VLBW</th>\n",
       "      <th>Premature</th>\n",
       "      <th>Under_18</th>\n",
       "      <th>Over_40</th>\n",
       "      <th>Unmarried</th>\n",
       "      <th>Late_Care</th>\n",
       "      <th>Infant_Mortality</th>\n",
       "    </tr>\n",
       "  </thead>\n",
       "  <tbody>\n",
       "    <tr>\n",
       "      <th>0</th>\n",
       "      <td>8.1</td>\n",
       "      <td>1.6</td>\n",
       "      <td>14.3</td>\n",
       "      <td>5.1</td>\n",
       "      <td>1.4</td>\n",
       "      <td>28.0</td>\n",
       "      <td>12.9</td>\n",
       "      <td>5.9</td>\n",
       "    </tr>\n",
       "    <tr>\n",
       "      <th>1</th>\n",
       "      <td>8.6</td>\n",
       "      <td>1.9</td>\n",
       "      <td>15.3</td>\n",
       "      <td>4.3</td>\n",
       "      <td>1.9</td>\n",
       "      <td>25.4</td>\n",
       "      <td>15.3</td>\n",
       "      <td>7.1</td>\n",
       "    </tr>\n",
       "    <tr>\n",
       "      <th>2</th>\n",
       "      <td>11.0</td>\n",
       "      <td>1.9</td>\n",
       "      <td>16.7</td>\n",
       "      <td>7.7</td>\n",
       "      <td>1.1</td>\n",
       "      <td>50.2</td>\n",
       "      <td>26.0</td>\n",
       "      <td>7.1</td>\n",
       "    </tr>\n",
       "    <tr>\n",
       "      <th>3</th>\n",
       "      <td>8.7</td>\n",
       "      <td>1.7</td>\n",
       "      <td>13.7</td>\n",
       "      <td>6.5</td>\n",
       "      <td>0.9</td>\n",
       "      <td>30.2</td>\n",
       "      <td>16.3</td>\n",
       "      <td>9.8</td>\n",
       "    </tr>\n",
       "    <tr>\n",
       "      <th>4</th>\n",
       "      <td>7.6</td>\n",
       "      <td>1.5</td>\n",
       "      <td>12.8</td>\n",
       "      <td>5.0</td>\n",
       "      <td>1.3</td>\n",
       "      <td>19.3</td>\n",
       "      <td>16.7</td>\n",
       "      <td>9.0</td>\n",
       "    </tr>\n",
       "  </tbody>\n",
       "</table>\n",
       "</div>"
      ],
      "text/plain": [
       "    LBW  VLBW  Premature  Under_18  Over_40  Unmarried  Late_Care  \\\n",
       "0   8.1   1.6       14.3       5.1      1.4       28.0       12.9   \n",
       "1   8.6   1.9       15.3       4.3      1.9       25.4       15.3   \n",
       "2  11.0   1.9       16.7       7.7      1.1       50.2       26.0   \n",
       "3   8.7   1.7       13.7       6.5      0.9       30.2       16.3   \n",
       "4   7.6   1.5       12.8       5.0      1.3       19.3       16.7   \n",
       "\n",
       "   Infant_Mortality  \n",
       "0               5.9  \n",
       "1               7.1  \n",
       "2               7.1  \n",
       "3               9.8  \n",
       "4               9.0  "
      ]
     },
     "execution_count": 295,
     "metadata": {},
     "output_type": "execute_result"
    }
   ],
   "source": [
    "# create final dataset \n",
    "IM_final = IM.drop(['ID','County_Name', 'State_Name'], axis=1)\n",
    "IM_final.head()"
   ]
  },
  {
   "cell_type": "markdown",
   "metadata": {},
   "source": [
    "## Factor Analysis\n",
    "\n",
    "### Correlation\n",
    "\n",
    "Correlation is a measure of the relationship between two or more features or variables. We were tasked with investigating if some specific factors impact on infant mortality rates more in this problem, we can create a correlation matrix to achieve this."
   ]
  },
  {
   "cell_type": "markdown",
   "metadata": {},
   "source": [
    "**Create heatmap for correlation**"
   ]
  },
  {
   "cell_type": "code",
   "execution_count": 233,
   "metadata": {},
   "outputs": [
    {
     "data": {
      "text/plain": [
       "<matplotlib.axes._subplots.AxesSubplot at 0x1a2743beb8>"
      ]
     },
     "execution_count": 233,
     "metadata": {},
     "output_type": "execute_result"
    },
    {
     "data": {
      "image/png": "[encoded data removed]",
      "text/plain": [
       "<Figure size 720x360 with 2 Axes>"
      ]
     },
     "metadata": {
      "needs_background": "light"
     },
     "output_type": "display_data"
    }
   ],
   "source": [
    "# create correlation matrix\n",
    "corr = IM_final.corr()\n",
    "\n",
    "# plot the heatmap for correlation matrix\n",
    "plt.figure(figsize=(10,5))\n",
    "sns.heatmap(corr, annot=True, vmin=-1, vmax=1)"
   ]
  },
  {
   "cell_type": "markdown",
   "metadata": {},
   "source": [
    "**Create a barchart to see factor impact**"
   ]
  },
  {
   "cell_type": "code",
   "execution_count": 235,
   "metadata": {},
   "outputs": [
    {
     "data": {
      "text/html": [
       "<div>\n",
       "<style scoped>\n",
       "    .dataframe tbody tr th:only-of-type {\n",
       "        vertical-align: middle;\n",
       "    }\n",
       "\n",
       "    .dataframe tbody tr th {\n",
       "        vertical-align: top;\n",
       "    }\n",
       "\n",
       "    .dataframe thead th {\n",
       "        text-align: right;\n",
       "    }\n",
       "</style>\n",
       "<table border=\"1\" class=\"dataframe\">\n",
       "  <thead>\n",
       "    <tr style=\"text-align: right;\">\n",
       "      <th></th>\n",
       "      <th>Infant_Mortality</th>\n",
       "      <th>Measures</th>\n",
       "    </tr>\n",
       "  </thead>\n",
       "  <tbody>\n",
       "    <tr>\n",
       "      <th>LBW</th>\n",
       "      <td>0.513373</td>\n",
       "      <td>LBW</td>\n",
       "    </tr>\n",
       "    <tr>\n",
       "      <th>VLBW</th>\n",
       "      <td>0.577343</td>\n",
       "      <td>VLBW</td>\n",
       "    </tr>\n",
       "    <tr>\n",
       "      <th>Premature</th>\n",
       "      <td>0.474642</td>\n",
       "      <td>Premature</td>\n",
       "    </tr>\n",
       "    <tr>\n",
       "      <th>Under_18</th>\n",
       "      <td>0.407109</td>\n",
       "      <td>Under_18</td>\n",
       "    </tr>\n",
       "    <tr>\n",
       "      <th>Over_40</th>\n",
       "      <td>-0.268136</td>\n",
       "      <td>Over_40</td>\n",
       "    </tr>\n",
       "    <tr>\n",
       "      <th>Unmarried</th>\n",
       "      <td>0.480946</td>\n",
       "      <td>Unmarried</td>\n",
       "    </tr>\n",
       "    <tr>\n",
       "      <th>Late_Care</th>\n",
       "      <td>0.224827</td>\n",
       "      <td>Late_Care</td>\n",
       "    </tr>\n",
       "  </tbody>\n",
       "</table>\n",
       "</div>"
      ],
      "text/plain": [
       "           Infant_Mortality   Measures\n",
       "LBW                0.513373        LBW\n",
       "VLBW               0.577343       VLBW\n",
       "Premature          0.474642  Premature\n",
       "Under_18           0.407109   Under_18\n",
       "Over_40           -0.268136    Over_40\n",
       "Unmarried          0.480946  Unmarried\n",
       "Late_Care          0.224827  Late_Care"
      ]
     },
     "execution_count": 235,
     "metadata": {},
     "output_type": "execute_result"
    }
   ],
   "source": [
    "# create a dataframe showing the correlation between infant mortality and different features/factors.\n",
    "corr_IM = corr.loc['LBW':'Late_Care', ['Infant_Mortality']]\n",
    "measures = [ 'LBW', 'VLBW', 'Premature', 'Under_18', 'Over_40',\n",
    "                    'Unmarried', 'Late_Care']\n",
    "corr_IM['Measures'] = measures\n",
    "corr_IM\n"
   ]
  },
  {
   "cell_type": "code",
   "execution_count": 236,
   "metadata": {},
   "outputs": [
    {
     "data": {
      "text/plain": [
       "<matplotlib.axes._subplots.AxesSubplot at 0x1a2743bb00>"
      ]
     },
     "execution_count": 236,
     "metadata": {},
     "output_type": "execute_result"
    },
    {
     "data": {
      "image/png": "[encoded data removed]",
      "text/plain": [
       "<Figure size 648x288 with 1 Axes>"
      ]
     },
     "metadata": {
      "needs_background": "light"
     },
     "output_type": "display_data"
    }
   ],
   "source": [
    "# Plot the barchart\n",
    "plt.figure(figsize=(9,4))\n",
    "sns.barplot(data=corr_IM, x='Infant_Mortality', y='Measures')"
   ]
  },
  {
   "cell_type": "markdown",
   "metadata": {},
   "source": [
    "From the barchart we can tell, VLBW(very low birth weight) has the highest impact on infant mortality rate. Late_Care doesn't have a huge impact on the rate. Which is interesting is births by women over 40 has a slight negative impact on infant mortality. "
   ]
  },
  {
   "cell_type": "markdown",
   "metadata": {},
   "source": [
    "## Develop the Models\n",
    "\n",
    "### Random Forest\n",
    "\n",
    "Random Forest algorithms is under the tree model family. Tree model is a flowchart-like structure that works by splitting the sample based on the maximum informative vaiable, named nodes. Each nodes will then split again, the process repeats until the subsamples cannot be split any further.\n",
    "\n",
    "Random Forest works by constructing multiple decision trees and output the average. The advantage of Random forests is avoiding overfitting from simple decision tree model.\n",
    "\n",
    "### SVM\n",
    "\n",
    "SVM (Support Vector Machine) works by assigning examples to one category or the other. Given known training examples, the algorithm builds an optimal hyperplane which categorizes new examples. The advantage of SVM is it builds non-linear hyperpane which is able to classifiy higher dimensional problems.\n",
    "\n",
    "### Gradient Boosting\n",
    "\n",
    "Gradient Boosting and example of one of the ensemble method, boosting. Unlike Random Forest which take the average of multiple decisions, Boosting trains the predictors sequentially. It works by learning mistakes from the previous predictors, the process iterates to reduce the error untill it finds the optimal one. \n",
    "\n",
    "### Cross Validation\n",
    "\n",
    "Cross-validation is a resampling procedure. It splits a given data sample into numbers of groups. Each group is called a fold, total k(any number) folds. It chose a training set of the size of one fold, train our model on that partition, all the folds will be examined. Then it evaluate the results on the remaining test data. The final results/scores are averaged out. This could avoid overfitting problem."
   ]
  },
  {
   "cell_type": "markdown",
   "metadata": {},
   "source": [
    "**Import related libraries**"
   ]
  },
  {
   "cell_type": "code",
   "execution_count": 275,
   "metadata": {},
   "outputs": [],
   "source": [
    "from sklearn.ensemble import RandomForestRegressor\n",
    "from sklearn.ensemble import GradientBoostingRegressor\n",
    "from sklearn.svm import SVR\n",
    "from sklearn import preprocessing\n",
    "\n",
    "from math import sqrt\n",
    "from sklearn.metrics import mean_squared_error\n",
    "from sklearn.metrics import r2_score\n",
    "from sklearn.model_selection import cross_val_score\n",
    "from sklearn.model_selection import train_test_split"
   ]
  },
  {
   "cell_type": "markdown",
   "metadata": {},
   "source": [
    "**Define training and testing sets**"
   ]
  },
  {
   "cell_type": "code",
   "execution_count": 296,
   "metadata": {},
   "outputs": [
    {
     "data": {
      "text/plain": [
       "((2010, 7), (862, 7), (2010,), (862,))"
      ]
     },
     "execution_count": 296,
     "metadata": {},
     "output_type": "execute_result"
    }
   ],
   "source": [
    "features = IM_final.iloc[:, 0:7]\n",
    "depVar = IM_model['Infant_Mortality']\n",
    "X_train, X_test, y_train, y_test = train_test_split(features, depVar, test_size=0.3, random_state=0)\n",
    "X_train.shape, X_test.shape, y_train.shape, y_test.shape"
   ]
  },
  {
   "cell_type": "markdown",
   "metadata": {},
   "source": [
    "**Define regressors**"
   ]
  },
  {
   "cell_type": "code",
   "execution_count": 334,
   "metadata": {},
   "outputs": [],
   "source": [
    "rfRegressor = RandomForestRegressor(n_estimators=50)\n",
    "gbRegressor = GradientBoostingRegressor(n_estimators=50)\n",
    "svrRegressor = SVR(kernel='linear', C=3)"
   ]
  },
  {
   "cell_type": "markdown",
   "metadata": {},
   "source": [
    "**Use cross_val_score to check the performance on three regressors**"
   ]
  },
  {
   "cell_type": "markdown",
   "metadata": {},
   "source": [
    "* Random Forest"
   ]
  },
  {
   "cell_type": "code",
   "execution_count": 328,
   "metadata": {},
   "outputs": [
    {
     "name": "stdout",
     "output_type": "stream",
     "text": [
      "mean_squared_error of random forest training set: -5.268\n"
     ]
    }
   ],
   "source": [
    "rfScore = cross_val_score(rfRegressor, X_train, y_train, cv=10, scoring='neg_mean_squared_error')\n",
    "print('mean_squared_error of random forest training set: %.3f' % rfScore.mean())"
   ]
  },
  {
   "cell_type": "markdown",
   "metadata": {},
   "source": [
    "* Gradient Boosting"
   ]
  },
  {
   "cell_type": "code",
   "execution_count": 330,
   "metadata": {},
   "outputs": [
    {
     "name": "stdout",
     "output_type": "stream",
     "text": [
      "mean_squared_error of gradient boosting training set: -5.073\n"
     ]
    }
   ],
   "source": [
    "gbScore = cross_val_score(gbRegressor, X_train, y_train, cv=10, scoring='neg_mean_squared_error')\n",
    "print('mean_squared_error of gradient boosting training set: %.3f' % gbScore.mean())"
   ]
  },
  {
   "cell_type": "markdown",
   "metadata": {},
   "source": [
    "* Support Vector Machine"
   ]
  },
  {
   "cell_type": "code",
   "execution_count": 335,
   "metadata": {},
   "outputs": [
    {
     "name": "stdout",
     "output_type": "stream",
     "text": [
      "mean_squared_error of support vector machine training set: -4.988\n"
     ]
    }
   ],
   "source": [
    "svrScore = cross_val_score(svrRegressor, X_train, y_train, cv=10, scoring='neg_mean_squared_error')\n",
    "print('mean_squared_error of support vector machine training set: %.3f' % svrScore.mean())"
   ]
  },
  {
   "cell_type": "markdown",
   "metadata": {},
   "source": [
    "**Fit the model**\n",
    "\n",
    "Even thought SVR has the best score, it took significantly longer time to train compairing to Gradient Boosting. At the same time, Gradient Boosting model has a very close score with SVR. Here we will use Gradient Boosting regressor to fit the model. "
   ]
  },
  {
   "cell_type": "code",
   "execution_count": 337,
   "metadata": {},
   "outputs": [
    {
     "name": "stdout",
     "output_type": "stream",
     "text": [
      "Test R Squared: 0.359\n",
      "Test MSE: 5.608\n"
     ]
    }
   ],
   "source": [
    "# fit the model\n",
    "gbModel = gbRegressor.fit(X_train, y_train)\n",
    "\n",
    "# testing the model\n",
    "gbPred = gbModel.predict(X_test)\n",
    "gbR2 = r2_score(y_test, gbPred)\n",
    "gbRMSE = mean_squared_error(y_test, gbPred)\n",
    "print('Test R Squared: %.3f' % gbR2)\n",
    "print('Test MSE: %.3f' % gbRMSE)"
   ]
  },
  {
   "cell_type": "markdown",
   "metadata": {},
   "source": [
    "Mean squared error from training and testing sets are close, our model is consistent."
   ]
  },
  {
   "cell_type": "markdown",
   "metadata": {},
   "source": [
    "## Conclusion \n",
    "\n",
    "### Factors effect infant mortality rates\n",
    "\n",
    "* VLBW(very low birth weight) has the highest impact on infant mortality rate. \n",
    "* Late_Care doesn't have a huge impact on the rate. \n",
    "* Births by women over 40 has a slight negative impact on infant mortality.\n",
    "\n",
    "### Can we make predictions on the missing mortality rates?\n",
    "\n",
    "The optimal model we achieved doesn't have pleasant scores. This is due to few reasons:\n",
    "\n",
    "* Too little factors. There are not enough factors, especially factors that have higher correlation with the infant mortality rates.\n",
    "* Too many missing values. The counties which are missing infant mortality rates also have many missing values for other factors, the model doesn't have enough information to make the predictions. \n",
    "\n",
    "### What we can do?\n",
    "\n",
    "* Gather and study more factors which may help to predict the infant mortality rates.\n",
    "* Racial and ethnic factors play a crucial role for United States infant mortality, we can take this into consideration. \n",
    "\n",
    "**This is the end of the project**"
   ]
  },
  {
   "cell_type": "code",
   "execution_count": null,
   "metadata": {},
   "outputs": [],
   "source": []
  }
 ],
 "metadata": {
  "kernelspec": {
   "display_name": "Python 3",
   "language": "python",
   "name": "python3"
  },
  "language_info": {
   "codemirror_mode": {
    "name": "ipython",
    "version": 3
   },
   "file_extension": ".py",
   "mimetype": "text/x-python",
   "name": "python",
   "nbconvert_exporter": "python",
   "pygments_lexer": "ipython3",
   "version": "3.7.3"
  }
 },
 "nbformat": 4,
 "nbformat_minor": 2
}
