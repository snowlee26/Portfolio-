{
 "cells": [
  {
   "cell_type": "markdown",
   "metadata": {},
   "source": [
    "# Auto Insurance Fraud Detection\n",
    "## Initial Exploration"
   ]
  },
  {
   "cell_type": "code",
   "execution_count": 79,
   "metadata": {},
   "outputs": [],
   "source": [
    "import numpy as np\n",
    "import pandas as pd\n",
    "import matplotlib as mpl\n",
    "import matplotlib.pyplot as plt\n",
    "import seaborn as sns\n",
    "from sklearn import preprocessing\n",
    "%matplotlib inline"
   ]
  },
  {
   "cell_type": "markdown",
   "metadata": {},
   "source": [
    "### Check the columns and find out the data types"
   ]
  },
  {
   "cell_type": "code",
   "execution_count": 67,
   "metadata": {},
   "outputs": [],
   "source": [
    "claims = pd.read_csv('insurance_claims.csv')"
   ]
  },
  {
   "cell_type": "code",
   "execution_count": 68,
   "metadata": {},
   "outputs": [
    {
     "data": {
      "text/html": [
       "<div>\n",
       "<style scoped>\n",
       "    .dataframe tbody tr th:only-of-type {\n",
       "        vertical-align: middle;\n",
       "    }\n",
       "\n",
       "    .dataframe tbody tr th {\n",
       "        vertical-align: top;\n",
       "    }\n",
       "\n",
       "    .dataframe thead th {\n",
       "        text-align: right;\n",
       "    }\n",
       "</style>\n",
       "<table border=\"1\" class=\"dataframe\">\n",
       "  <thead>\n",
       "    <tr style=\"text-align: right;\">\n",
       "      <th></th>\n",
       "      <th>months_as_customer</th>\n",
       "      <th>age</th>\n",
       "      <th>gender</th>\n",
       "      <th>education</th>\n",
       "      <th>relationship</th>\n",
       "      <th>occupation</th>\n",
       "      <th>hobbies</th>\n",
       "      <th>deductable</th>\n",
       "      <th>annual_premium</th>\n",
       "      <th>umbrella_limit</th>\n",
       "      <th>...</th>\n",
       "      <th>collision_type</th>\n",
       "      <th>incident_severity</th>\n",
       "      <th>number_of_vehicles</th>\n",
       "      <th>property_damage</th>\n",
       "      <th>bodily_injuries</th>\n",
       "      <th>witnesses</th>\n",
       "      <th>police_report</th>\n",
       "      <th>total_claim</th>\n",
       "      <th>auto_year</th>\n",
       "      <th>fraud_reported</th>\n",
       "    </tr>\n",
       "  </thead>\n",
       "  <tbody>\n",
       "    <tr>\n",
       "      <td>0</td>\n",
       "      <td>328</td>\n",
       "      <td>48</td>\n",
       "      <td>MALE</td>\n",
       "      <td>MD</td>\n",
       "      <td>husband</td>\n",
       "      <td>craft-repair</td>\n",
       "      <td>sleeping</td>\n",
       "      <td>1000</td>\n",
       "      <td>1406.91</td>\n",
       "      <td>0</td>\n",
       "      <td>...</td>\n",
       "      <td>Side Collision</td>\n",
       "      <td>Major Damage</td>\n",
       "      <td>1</td>\n",
       "      <td>YES</td>\n",
       "      <td>1</td>\n",
       "      <td>2</td>\n",
       "      <td>YES</td>\n",
       "      <td>71610</td>\n",
       "      <td>2004</td>\n",
       "      <td>Y</td>\n",
       "    </tr>\n",
       "    <tr>\n",
       "      <td>1</td>\n",
       "      <td>228</td>\n",
       "      <td>42</td>\n",
       "      <td>MALE</td>\n",
       "      <td>MD</td>\n",
       "      <td>other-relative</td>\n",
       "      <td>machine-op-inspct</td>\n",
       "      <td>reading</td>\n",
       "      <td>2000</td>\n",
       "      <td>1197.22</td>\n",
       "      <td>5000000</td>\n",
       "      <td>...</td>\n",
       "      <td>?</td>\n",
       "      <td>Minor Damage</td>\n",
       "      <td>1</td>\n",
       "      <td>?</td>\n",
       "      <td>0</td>\n",
       "      <td>0</td>\n",
       "      <td>?</td>\n",
       "      <td>5070</td>\n",
       "      <td>2007</td>\n",
       "      <td>Y</td>\n",
       "    </tr>\n",
       "    <tr>\n",
       "      <td>2</td>\n",
       "      <td>134</td>\n",
       "      <td>29</td>\n",
       "      <td>FEMALE</td>\n",
       "      <td>PhD</td>\n",
       "      <td>own-child</td>\n",
       "      <td>sales</td>\n",
       "      <td>board-games</td>\n",
       "      <td>2000</td>\n",
       "      <td>1413.14</td>\n",
       "      <td>5000000</td>\n",
       "      <td>...</td>\n",
       "      <td>Rear Collision</td>\n",
       "      <td>Minor Damage</td>\n",
       "      <td>3</td>\n",
       "      <td>NO</td>\n",
       "      <td>2</td>\n",
       "      <td>3</td>\n",
       "      <td>NO</td>\n",
       "      <td>34650</td>\n",
       "      <td>2007</td>\n",
       "      <td>N</td>\n",
       "    </tr>\n",
       "    <tr>\n",
       "      <td>3</td>\n",
       "      <td>256</td>\n",
       "      <td>41</td>\n",
       "      <td>FEMALE</td>\n",
       "      <td>PhD</td>\n",
       "      <td>unmarried</td>\n",
       "      <td>armed-forces</td>\n",
       "      <td>board-games</td>\n",
       "      <td>2000</td>\n",
       "      <td>1415.74</td>\n",
       "      <td>6000000</td>\n",
       "      <td>...</td>\n",
       "      <td>Front Collision</td>\n",
       "      <td>Major Damage</td>\n",
       "      <td>1</td>\n",
       "      <td>?</td>\n",
       "      <td>1</td>\n",
       "      <td>2</td>\n",
       "      <td>NO</td>\n",
       "      <td>63400</td>\n",
       "      <td>2014</td>\n",
       "      <td>Y</td>\n",
       "    </tr>\n",
       "    <tr>\n",
       "      <td>4</td>\n",
       "      <td>228</td>\n",
       "      <td>44</td>\n",
       "      <td>MALE</td>\n",
       "      <td>Associate</td>\n",
       "      <td>unmarried</td>\n",
       "      <td>sales</td>\n",
       "      <td>board-games</td>\n",
       "      <td>1000</td>\n",
       "      <td>1583.91</td>\n",
       "      <td>6000000</td>\n",
       "      <td>...</td>\n",
       "      <td>?</td>\n",
       "      <td>Minor Damage</td>\n",
       "      <td>1</td>\n",
       "      <td>NO</td>\n",
       "      <td>0</td>\n",
       "      <td>1</td>\n",
       "      <td>NO</td>\n",
       "      <td>6500</td>\n",
       "      <td>2009</td>\n",
       "      <td>N</td>\n",
       "    </tr>\n",
       "  </tbody>\n",
       "</table>\n",
       "<p>5 rows × 21 columns</p>\n",
       "</div>"
      ],
      "text/plain": [
       "   months_as_customer  age  gender  education    relationship  \\\n",
       "0                 328   48    MALE         MD         husband   \n",
       "1                 228   42    MALE         MD  other-relative   \n",
       "2                 134   29  FEMALE        PhD       own-child   \n",
       "3                 256   41  FEMALE        PhD       unmarried   \n",
       "4                 228   44    MALE  Associate       unmarried   \n",
       "\n",
       "          occupation      hobbies  deductable  annual_premium  umbrella_limit  \\\n",
       "0       craft-repair     sleeping        1000         1406.91               0   \n",
       "1  machine-op-inspct      reading        2000         1197.22         5000000   \n",
       "2              sales  board-games        2000         1413.14         5000000   \n",
       "3       armed-forces  board-games        2000         1415.74         6000000   \n",
       "4              sales  board-games        1000         1583.91         6000000   \n",
       "\n",
       "   ...   collision_type incident_severity number_of_vehicles  property_damage  \\\n",
       "0  ...   Side Collision      Major Damage                  1              YES   \n",
       "1  ...                ?      Minor Damage                  1                ?   \n",
       "2  ...   Rear Collision      Minor Damage                  3               NO   \n",
       "3  ...  Front Collision      Major Damage                  1                ?   \n",
       "4  ...                ?      Minor Damage                  1               NO   \n",
       "\n",
       "  bodily_injuries  witnesses  police_report total_claim  auto_year  \\\n",
       "0               1          2            YES       71610       2004   \n",
       "1               0          0              ?        5070       2007   \n",
       "2               2          3             NO       34650       2007   \n",
       "3               1          2             NO       63400       2014   \n",
       "4               0          1             NO        6500       2009   \n",
       "\n",
       "   fraud_reported  \n",
       "0               Y  \n",
       "1               Y  \n",
       "2               N  \n",
       "3               Y  \n",
       "4               N  \n",
       "\n",
       "[5 rows x 21 columns]"
      ]
     },
     "execution_count": 68,
     "metadata": {},
     "output_type": "execute_result"
    }
   ],
   "source": [
    "claims.head()"
   ]
  },
  {
   "cell_type": "code",
   "execution_count": 69,
   "metadata": {},
   "outputs": [
    {
     "name": "stdout",
     "output_type": "stream",
     "text": [
      "<class 'pandas.core.frame.DataFrame'>\n",
      "RangeIndex: 1000 entries, 0 to 999\n",
      "Data columns (total 21 columns):\n",
      "months_as_customer    1000 non-null int64\n",
      "age                   1000 non-null int64\n",
      "gender                1000 non-null object\n",
      "education             1000 non-null object\n",
      "relationship          1000 non-null object\n",
      "occupation            1000 non-null object\n",
      "hobbies               1000 non-null object\n",
      "deductable            1000 non-null int64\n",
      "annual_premium        1000 non-null float64\n",
      "umbrella_limit        1000 non-null int64\n",
      "incident_type         1000 non-null object\n",
      "collision_type        1000 non-null object\n",
      "incident_severity     1000 non-null object\n",
      "number_of_vehicles    1000 non-null int64\n",
      "property_damage       1000 non-null object\n",
      "bodily_injuries       1000 non-null int64\n",
      "witnesses             1000 non-null int64\n",
      "police_report         1000 non-null object\n",
      "total_claim           1000 non-null int64\n",
      "auto_year             1000 non-null int64\n",
      "fraud_reported        1000 non-null object\n",
      "dtypes: float64(1), int64(9), object(11)\n",
      "memory usage: 164.2+ KB\n"
     ]
    }
   ],
   "source": [
    "claims.info()"
   ]
  },
  {
   "cell_type": "markdown",
   "metadata": {},
   "source": [
    "### Check mean statistical summaries"
   ]
  },
  {
   "cell_type": "code",
   "execution_count": 70,
   "metadata": {},
   "outputs": [
    {
     "data": {
      "text/html": [
       "<div>\n",
       "<style scoped>\n",
       "    .dataframe tbody tr th:only-of-type {\n",
       "        vertical-align: middle;\n",
       "    }\n",
       "\n",
       "    .dataframe tbody tr th {\n",
       "        vertical-align: top;\n",
       "    }\n",
       "\n",
       "    .dataframe thead th {\n",
       "        text-align: right;\n",
       "    }\n",
       "</style>\n",
       "<table border=\"1\" class=\"dataframe\">\n",
       "  <thead>\n",
       "    <tr style=\"text-align: right;\">\n",
       "      <th></th>\n",
       "      <th>months_as_customer</th>\n",
       "      <th>age</th>\n",
       "      <th>deductable</th>\n",
       "      <th>annual_premium</th>\n",
       "      <th>umbrella_limit</th>\n",
       "      <th>number_of_vehicles</th>\n",
       "      <th>bodily_injuries</th>\n",
       "      <th>witnesses</th>\n",
       "      <th>total_claim</th>\n",
       "      <th>auto_year</th>\n",
       "    </tr>\n",
       "  </thead>\n",
       "  <tbody>\n",
       "    <tr>\n",
       "      <td>count</td>\n",
       "      <td>1000.000000</td>\n",
       "      <td>1000.000000</td>\n",
       "      <td>1000.000000</td>\n",
       "      <td>1000.000000</td>\n",
       "      <td>1.000000e+03</td>\n",
       "      <td>1000.00000</td>\n",
       "      <td>1000.000000</td>\n",
       "      <td>1000.000000</td>\n",
       "      <td>1000.00000</td>\n",
       "      <td>1000.000000</td>\n",
       "    </tr>\n",
       "    <tr>\n",
       "      <td>mean</td>\n",
       "      <td>203.954000</td>\n",
       "      <td>38.948000</td>\n",
       "      <td>1136.000000</td>\n",
       "      <td>1256.406150</td>\n",
       "      <td>1.101000e+06</td>\n",
       "      <td>1.83900</td>\n",
       "      <td>0.992000</td>\n",
       "      <td>1.487000</td>\n",
       "      <td>52761.94000</td>\n",
       "      <td>2005.103000</td>\n",
       "    </tr>\n",
       "    <tr>\n",
       "      <td>std</td>\n",
       "      <td>115.113174</td>\n",
       "      <td>9.140287</td>\n",
       "      <td>611.864673</td>\n",
       "      <td>244.167395</td>\n",
       "      <td>2.297407e+06</td>\n",
       "      <td>1.01888</td>\n",
       "      <td>0.820127</td>\n",
       "      <td>1.111335</td>\n",
       "      <td>26401.53319</td>\n",
       "      <td>6.015861</td>\n",
       "    </tr>\n",
       "    <tr>\n",
       "      <td>min</td>\n",
       "      <td>0.000000</td>\n",
       "      <td>19.000000</td>\n",
       "      <td>500.000000</td>\n",
       "      <td>433.330000</td>\n",
       "      <td>-1.000000e+06</td>\n",
       "      <td>1.00000</td>\n",
       "      <td>0.000000</td>\n",
       "      <td>0.000000</td>\n",
       "      <td>100.00000</td>\n",
       "      <td>1995.000000</td>\n",
       "    </tr>\n",
       "    <tr>\n",
       "      <td>25%</td>\n",
       "      <td>115.750000</td>\n",
       "      <td>32.000000</td>\n",
       "      <td>500.000000</td>\n",
       "      <td>1089.607500</td>\n",
       "      <td>0.000000e+00</td>\n",
       "      <td>1.00000</td>\n",
       "      <td>0.000000</td>\n",
       "      <td>1.000000</td>\n",
       "      <td>41812.50000</td>\n",
       "      <td>2000.000000</td>\n",
       "    </tr>\n",
       "    <tr>\n",
       "      <td>50%</td>\n",
       "      <td>199.500000</td>\n",
       "      <td>38.000000</td>\n",
       "      <td>1000.000000</td>\n",
       "      <td>1257.200000</td>\n",
       "      <td>0.000000e+00</td>\n",
       "      <td>1.00000</td>\n",
       "      <td>1.000000</td>\n",
       "      <td>1.000000</td>\n",
       "      <td>58055.00000</td>\n",
       "      <td>2005.000000</td>\n",
       "    </tr>\n",
       "    <tr>\n",
       "      <td>75%</td>\n",
       "      <td>276.250000</td>\n",
       "      <td>44.000000</td>\n",
       "      <td>2000.000000</td>\n",
       "      <td>1415.695000</td>\n",
       "      <td>0.000000e+00</td>\n",
       "      <td>3.00000</td>\n",
       "      <td>2.000000</td>\n",
       "      <td>2.000000</td>\n",
       "      <td>70592.50000</td>\n",
       "      <td>2010.000000</td>\n",
       "    </tr>\n",
       "    <tr>\n",
       "      <td>max</td>\n",
       "      <td>479.000000</td>\n",
       "      <td>64.000000</td>\n",
       "      <td>2000.000000</td>\n",
       "      <td>2047.590000</td>\n",
       "      <td>1.000000e+07</td>\n",
       "      <td>4.00000</td>\n",
       "      <td>2.000000</td>\n",
       "      <td>3.000000</td>\n",
       "      <td>114920.00000</td>\n",
       "      <td>2015.000000</td>\n",
       "    </tr>\n",
       "  </tbody>\n",
       "</table>\n",
       "</div>"
      ],
      "text/plain": [
       "       months_as_customer          age   deductable  annual_premium  \\\n",
       "count         1000.000000  1000.000000  1000.000000     1000.000000   \n",
       "mean           203.954000    38.948000  1136.000000     1256.406150   \n",
       "std            115.113174     9.140287   611.864673      244.167395   \n",
       "min              0.000000    19.000000   500.000000      433.330000   \n",
       "25%            115.750000    32.000000   500.000000     1089.607500   \n",
       "50%            199.500000    38.000000  1000.000000     1257.200000   \n",
       "75%            276.250000    44.000000  2000.000000     1415.695000   \n",
       "max            479.000000    64.000000  2000.000000     2047.590000   \n",
       "\n",
       "       umbrella_limit  number_of_vehicles  bodily_injuries    witnesses  \\\n",
       "count    1.000000e+03          1000.00000      1000.000000  1000.000000   \n",
       "mean     1.101000e+06             1.83900         0.992000     1.487000   \n",
       "std      2.297407e+06             1.01888         0.820127     1.111335   \n",
       "min     -1.000000e+06             1.00000         0.000000     0.000000   \n",
       "25%      0.000000e+00             1.00000         0.000000     1.000000   \n",
       "50%      0.000000e+00             1.00000         1.000000     1.000000   \n",
       "75%      0.000000e+00             3.00000         2.000000     2.000000   \n",
       "max      1.000000e+07             4.00000         2.000000     3.000000   \n",
       "\n",
       "        total_claim    auto_year  \n",
       "count    1000.00000  1000.000000  \n",
       "mean    52761.94000  2005.103000  \n",
       "std     26401.53319     6.015861  \n",
       "min       100.00000  1995.000000  \n",
       "25%     41812.50000  2000.000000  \n",
       "50%     58055.00000  2005.000000  \n",
       "75%     70592.50000  2010.000000  \n",
       "max    114920.00000  2015.000000  "
      ]
     },
     "execution_count": 70,
     "metadata": {},
     "output_type": "execute_result"
    }
   ],
   "source": [
    "claims.describe()"
   ]
  },
  {
   "cell_type": "markdown",
   "metadata": {},
   "source": [
    "#### Dealing the negative value in 'umbrella_limit' column"
   ]
  },
  {
   "cell_type": "code",
   "execution_count": 347,
   "metadata": {},
   "outputs": [
    {
     "data": {
      "text/html": [
       "<div>\n",
       "<style scoped>\n",
       "    .dataframe tbody tr th:only-of-type {\n",
       "        vertical-align: middle;\n",
       "    }\n",
       "\n",
       "    .dataframe tbody tr th {\n",
       "        vertical-align: top;\n",
       "    }\n",
       "\n",
       "    .dataframe thead th {\n",
       "        text-align: right;\n",
       "    }\n",
       "</style>\n",
       "<table border=\"1\" class=\"dataframe\">\n",
       "  <thead>\n",
       "    <tr style=\"text-align: right;\">\n",
       "      <th></th>\n",
       "      <th>months_as_customer</th>\n",
       "      <th>age</th>\n",
       "      <th>gender</th>\n",
       "      <th>education</th>\n",
       "      <th>relationship</th>\n",
       "      <th>occupation</th>\n",
       "      <th>hobbies</th>\n",
       "      <th>deductable</th>\n",
       "      <th>annual_premium</th>\n",
       "      <th>umbrella_limit</th>\n",
       "      <th>...</th>\n",
       "      <th>number_of_vehicles</th>\n",
       "      <th>property_damage</th>\n",
       "      <th>bodily_injuries</th>\n",
       "      <th>witnesses</th>\n",
       "      <th>police_report</th>\n",
       "      <th>total_claim</th>\n",
       "      <th>auto_year</th>\n",
       "      <th>fraud_reported</th>\n",
       "      <th>education_cat</th>\n",
       "      <th>incident_sev_cat</th>\n",
       "    </tr>\n",
       "  </thead>\n",
       "  <tbody>\n",
       "    <tr>\n",
       "      <td>290</td>\n",
       "      <td>284</td>\n",
       "      <td>42</td>\n",
       "      <td>MALE</td>\n",
       "      <td>Associate</td>\n",
       "      <td>wife</td>\n",
       "      <td>machine-op-inspct</td>\n",
       "      <td>kayaking</td>\n",
       "      <td>500</td>\n",
       "      <td>1338.54</td>\n",
       "      <td>-1000000</td>\n",
       "      <td>...</td>\n",
       "      <td>1</td>\n",
       "      <td>YES</td>\n",
       "      <td>0</td>\n",
       "      <td>1</td>\n",
       "      <td>Unknown</td>\n",
       "      <td>94160</td>\n",
       "      <td>1996</td>\n",
       "      <td>N</td>\n",
       "      <td>1</td>\n",
       "      <td>2</td>\n",
       "    </tr>\n",
       "  </tbody>\n",
       "</table>\n",
       "<p>1 rows × 23 columns</p>\n",
       "</div>"
      ],
      "text/plain": [
       "     months_as_customer  age gender  education relationship  \\\n",
       "290                 284   42   MALE  Associate         wife   \n",
       "\n",
       "            occupation   hobbies  deductable  annual_premium  umbrella_limit  \\\n",
       "290  machine-op-inspct  kayaking         500         1338.54        -1000000   \n",
       "\n",
       "     ... number_of_vehicles property_damage bodily_injuries  witnesses  \\\n",
       "290  ...                  1             YES               0          1   \n",
       "\n",
       "    police_report  total_claim  auto_year fraud_reported  education_cat  \\\n",
       "290       Unknown        94160       1996              N              1   \n",
       "\n",
       "     incident_sev_cat  \n",
       "290                 2  \n",
       "\n",
       "[1 rows x 23 columns]"
      ]
     },
     "execution_count": 347,
     "metadata": {},
     "output_type": "execute_result"
    }
   ],
   "source": [
    "claims[claims['umbrella_limit']<0]"
   ]
  },
  {
   "cell_type": "code",
   "execution_count": 348,
   "metadata": {},
   "outputs": [],
   "source": [
    "claims['umbrella_limit'] = claims['umbrella_limit'].replace(-1000000, 0)"
   ]
  },
  {
   "cell_type": "markdown",
   "metadata": {},
   "source": [
    "## Pre_Processing and Feature_Engineering \n",
    "### Check and deal with missing values"
   ]
  },
  {
   "cell_type": "code",
   "execution_count": 71,
   "metadata": {},
   "outputs": [
    {
     "data": {
      "text/plain": [
       "months_as_customer    0\n",
       "age                   0\n",
       "gender                0\n",
       "education             0\n",
       "relationship          0\n",
       "occupation            0\n",
       "hobbies               0\n",
       "deductable            0\n",
       "annual_premium        0\n",
       "umbrella_limit        0\n",
       "incident_type         0\n",
       "collision_type        0\n",
       "incident_severity     0\n",
       "number_of_vehicles    0\n",
       "property_damage       0\n",
       "bodily_injuries       0\n",
       "witnesses             0\n",
       "police_report         0\n",
       "total_claim           0\n",
       "auto_year             0\n",
       "fraud_reported        0\n",
       "dtype: int64"
      ]
     },
     "execution_count": 71,
     "metadata": {},
     "output_type": "execute_result"
    }
   ],
   "source": [
    "claims.isnull().sum()"
   ]
  },
  {
   "cell_type": "code",
   "execution_count": 58,
   "metadata": {},
   "outputs": [
    {
     "name": "stdout",
     "output_type": "stream",
     "text": [
      "['MALE' 'FEMALE']\n",
      "['MD' 'PhD' 'Associate' 'Masters' 'High School' 'College' 'JD']\n",
      "['husband' 'other-relative' 'own-child' 'unmarried' 'wife' 'not-in-family']\n",
      "['craft-repair' 'machine-op-inspct' 'sales' 'armed-forces' 'tech-support'\n",
      " 'prof-specialty' 'other-service' 'priv-house-serv' 'exec-managerial'\n",
      " 'protective-serv' 'transport-moving' 'handlers-cleaners' 'adm-clerical'\n",
      " 'farming-fishing']\n",
      "['sleeping' 'reading' 'board-games' 'bungie-jumping' 'base-jumping' 'golf'\n",
      " 'camping' 'dancing' 'skydiving' 'movies' 'hiking' 'yachting' 'paintball'\n",
      " 'chess' 'kayaking' 'polo' 'basketball' 'video-games' 'cross-fit'\n",
      " 'exercise']\n",
      "['Single Vehicle Collision' 'Vehicle Theft' 'Multi-vehicle Collision'\n",
      " 'Parked Car']\n",
      "['Side Collision' '?' 'Rear Collision' 'Front Collision']\n",
      "['Major Damage' 'Minor Damage' 'Total Loss' 'Trivial Damage']\n",
      "['YES' '?' 'NO']\n",
      "['YES' '?' 'NO']\n",
      "['Y' 'N']\n"
     ]
    }
   ],
   "source": [
    "# print out unique values for object columns\n",
    "for col in claims.select_dtypes(include = 'object'):\n",
    "    print(claims.select_dtypes(include = 'object')[col].unique())"
   ]
  },
  {
   "cell_type": "code",
   "execution_count": 45,
   "metadata": {},
   "outputs": [
    {
     "data": {
      "text/plain": [
       "178"
      ]
     },
     "execution_count": 45,
     "metadata": {},
     "output_type": "execute_result"
    }
   ],
   "source": [
    "len(claims[claims['incident_type'].isin(['Vehicle Theft','Parked Car'])])"
   ]
  },
  {
   "cell_type": "code",
   "execution_count": 48,
   "metadata": {},
   "outputs": [
    {
     "data": {
      "text/plain": [
       "178"
      ]
     },
     "execution_count": 48,
     "metadata": {},
     "output_type": "execute_result"
    }
   ],
   "source": [
    "len(claims[claims['collision_type'].isin(['?'])])"
   ]
  },
  {
   "cell_type": "code",
   "execution_count": 95,
   "metadata": {},
   "outputs": [],
   "source": [
    "claims['collision_type'] = claims['collision_type'].replace('?', 'No Collision')\n",
    "claims['property_damage'] = claims['property_damage'].replace('?', 'Unknown')\n",
    "claims['police_report'] = claims['police_report'].replace('?', 'Unknown')"
   ]
  },
  {
   "cell_type": "markdown",
   "metadata": {},
   "source": [
    "### Recode 'education' into four levels: High School, Associate, College, Graduate "
   ]
  },
  {
   "cell_type": "code",
   "execution_count": 72,
   "metadata": {},
   "outputs": [],
   "source": [
    "claims['education'] = claims['education'].replace(['MD','PhD','Masters','JD'], 'Graduate')"
   ]
  },
  {
   "cell_type": "code",
   "execution_count": 73,
   "metadata": {},
   "outputs": [
    {
     "data": {
      "text/plain": [
       "array(['Graduate', 'Associate', 'High School', 'College'], dtype=object)"
      ]
     },
     "execution_count": 73,
     "metadata": {},
     "output_type": "execute_result"
    }
   ],
   "source": [
    "claims['education'].unique()"
   ]
  },
  {
   "cell_type": "markdown",
   "metadata": {},
   "source": [
    "### Lable encoding for 'education' and 'incident_severity'"
   ]
  },
  {
   "cell_type": "code",
   "execution_count": 75,
   "metadata": {},
   "outputs": [],
   "source": [
    "# first we change the data type to category \n",
    "for col in ['education','incident_severity']:\n",
    "    claims[col] = claims[col].astype('category')"
   ]
  },
  {
   "cell_type": "code",
   "execution_count": 80,
   "metadata": {},
   "outputs": [],
   "source": [
    "claims['education_cat'] = claims['education'].cat.codes\n"
   ]
  },
  {
   "cell_type": "code",
   "execution_count": 85,
   "metadata": {},
   "outputs": [
    {
     "data": {
      "text/html": [
       "<div>\n",
       "<style scoped>\n",
       "    .dataframe tbody tr th:only-of-type {\n",
       "        vertical-align: middle;\n",
       "    }\n",
       "\n",
       "    .dataframe tbody tr th {\n",
       "        vertical-align: top;\n",
       "    }\n",
       "\n",
       "    .dataframe thead th {\n",
       "        text-align: right;\n",
       "    }\n",
       "</style>\n",
       "<table border=\"1\" class=\"dataframe\">\n",
       "  <thead>\n",
       "    <tr style=\"text-align: right;\">\n",
       "      <th></th>\n",
       "      <th>education</th>\n",
       "      <th>education_cat</th>\n",
       "    </tr>\n",
       "  </thead>\n",
       "  <tbody>\n",
       "    <tr>\n",
       "      <td>0</td>\n",
       "      <td>Graduate</td>\n",
       "      <td>2</td>\n",
       "    </tr>\n",
       "    <tr>\n",
       "      <td>1</td>\n",
       "      <td>Graduate</td>\n",
       "      <td>2</td>\n",
       "    </tr>\n",
       "    <tr>\n",
       "      <td>2</td>\n",
       "      <td>Graduate</td>\n",
       "      <td>2</td>\n",
       "    </tr>\n",
       "    <tr>\n",
       "      <td>3</td>\n",
       "      <td>Graduate</td>\n",
       "      <td>2</td>\n",
       "    </tr>\n",
       "    <tr>\n",
       "      <td>4</td>\n",
       "      <td>Associate</td>\n",
       "      <td>0</td>\n",
       "    </tr>\n",
       "    <tr>\n",
       "      <td>5</td>\n",
       "      <td>Graduate</td>\n",
       "      <td>2</td>\n",
       "    </tr>\n",
       "    <tr>\n",
       "      <td>6</td>\n",
       "      <td>Graduate</td>\n",
       "      <td>2</td>\n",
       "    </tr>\n",
       "    <tr>\n",
       "      <td>7</td>\n",
       "      <td>Associate</td>\n",
       "      <td>0</td>\n",
       "    </tr>\n",
       "    <tr>\n",
       "      <td>8</td>\n",
       "      <td>Graduate</td>\n",
       "      <td>2</td>\n",
       "    </tr>\n",
       "    <tr>\n",
       "      <td>9</td>\n",
       "      <td>Graduate</td>\n",
       "      <td>2</td>\n",
       "    </tr>\n",
       "    <tr>\n",
       "      <td>10</td>\n",
       "      <td>Graduate</td>\n",
       "      <td>2</td>\n",
       "    </tr>\n",
       "    <tr>\n",
       "      <td>11</td>\n",
       "      <td>High School</td>\n",
       "      <td>3</td>\n",
       "    </tr>\n",
       "    <tr>\n",
       "      <td>12</td>\n",
       "      <td>Graduate</td>\n",
       "      <td>2</td>\n",
       "    </tr>\n",
       "    <tr>\n",
       "      <td>13</td>\n",
       "      <td>Graduate</td>\n",
       "      <td>2</td>\n",
       "    </tr>\n",
       "    <tr>\n",
       "      <td>14</td>\n",
       "      <td>College</td>\n",
       "      <td>1</td>\n",
       "    </tr>\n",
       "  </tbody>\n",
       "</table>\n",
       "</div>"
      ],
      "text/plain": [
       "      education  education_cat\n",
       "0      Graduate              2\n",
       "1      Graduate              2\n",
       "2      Graduate              2\n",
       "3      Graduate              2\n",
       "4     Associate              0\n",
       "5      Graduate              2\n",
       "6      Graduate              2\n",
       "7     Associate              0\n",
       "8      Graduate              2\n",
       "9      Graduate              2\n",
       "10     Graduate              2\n",
       "11  High School              3\n",
       "12     Graduate              2\n",
       "13     Graduate              2\n",
       "14      College              1"
      ]
     },
     "execution_count": 85,
     "metadata": {},
     "output_type": "execute_result"
    }
   ],
   "source": [
    "claims[['education','education_cat']].head(15)"
   ]
  },
  {
   "cell_type": "code",
   "execution_count": 86,
   "metadata": {},
   "outputs": [],
   "source": [
    "claims['education_cat'] = claims['education_cat'].replace([0,1,2,3],[1,2,3,0])"
   ]
  },
  {
   "cell_type": "code",
   "execution_count": 87,
   "metadata": {},
   "outputs": [
    {
     "data": {
      "text/html": [
       "<div>\n",
       "<style scoped>\n",
       "    .dataframe tbody tr th:only-of-type {\n",
       "        vertical-align: middle;\n",
       "    }\n",
       "\n",
       "    .dataframe tbody tr th {\n",
       "        vertical-align: top;\n",
       "    }\n",
       "\n",
       "    .dataframe thead th {\n",
       "        text-align: right;\n",
       "    }\n",
       "</style>\n",
       "<table border=\"1\" class=\"dataframe\">\n",
       "  <thead>\n",
       "    <tr style=\"text-align: right;\">\n",
       "      <th></th>\n",
       "      <th>education</th>\n",
       "      <th>education_cat</th>\n",
       "    </tr>\n",
       "  </thead>\n",
       "  <tbody>\n",
       "    <tr>\n",
       "      <td>0</td>\n",
       "      <td>Graduate</td>\n",
       "      <td>3</td>\n",
       "    </tr>\n",
       "    <tr>\n",
       "      <td>1</td>\n",
       "      <td>Graduate</td>\n",
       "      <td>3</td>\n",
       "    </tr>\n",
       "    <tr>\n",
       "      <td>2</td>\n",
       "      <td>Graduate</td>\n",
       "      <td>3</td>\n",
       "    </tr>\n",
       "    <tr>\n",
       "      <td>3</td>\n",
       "      <td>Graduate</td>\n",
       "      <td>3</td>\n",
       "    </tr>\n",
       "    <tr>\n",
       "      <td>4</td>\n",
       "      <td>Associate</td>\n",
       "      <td>1</td>\n",
       "    </tr>\n",
       "    <tr>\n",
       "      <td>5</td>\n",
       "      <td>Graduate</td>\n",
       "      <td>3</td>\n",
       "    </tr>\n",
       "    <tr>\n",
       "      <td>6</td>\n",
       "      <td>Graduate</td>\n",
       "      <td>3</td>\n",
       "    </tr>\n",
       "    <tr>\n",
       "      <td>7</td>\n",
       "      <td>Associate</td>\n",
       "      <td>1</td>\n",
       "    </tr>\n",
       "    <tr>\n",
       "      <td>8</td>\n",
       "      <td>Graduate</td>\n",
       "      <td>3</td>\n",
       "    </tr>\n",
       "    <tr>\n",
       "      <td>9</td>\n",
       "      <td>Graduate</td>\n",
       "      <td>3</td>\n",
       "    </tr>\n",
       "    <tr>\n",
       "      <td>10</td>\n",
       "      <td>Graduate</td>\n",
       "      <td>3</td>\n",
       "    </tr>\n",
       "    <tr>\n",
       "      <td>11</td>\n",
       "      <td>High School</td>\n",
       "      <td>0</td>\n",
       "    </tr>\n",
       "    <tr>\n",
       "      <td>12</td>\n",
       "      <td>Graduate</td>\n",
       "      <td>3</td>\n",
       "    </tr>\n",
       "    <tr>\n",
       "      <td>13</td>\n",
       "      <td>Graduate</td>\n",
       "      <td>3</td>\n",
       "    </tr>\n",
       "    <tr>\n",
       "      <td>14</td>\n",
       "      <td>College</td>\n",
       "      <td>2</td>\n",
       "    </tr>\n",
       "  </tbody>\n",
       "</table>\n",
       "</div>"
      ],
      "text/plain": [
       "      education  education_cat\n",
       "0      Graduate              3\n",
       "1      Graduate              3\n",
       "2      Graduate              3\n",
       "3      Graduate              3\n",
       "4     Associate              1\n",
       "5      Graduate              3\n",
       "6      Graduate              3\n",
       "7     Associate              1\n",
       "8      Graduate              3\n",
       "9      Graduate              3\n",
       "10     Graduate              3\n",
       "11  High School              0\n",
       "12     Graduate              3\n",
       "13     Graduate              3\n",
       "14      College              2"
      ]
     },
     "execution_count": 87,
     "metadata": {},
     "output_type": "execute_result"
    }
   ],
   "source": [
    "claims[['education','education_cat']].head(15)"
   ]
  },
  {
   "cell_type": "code",
   "execution_count": 91,
   "metadata": {},
   "outputs": [
    {
     "data": {
      "text/html": [
       "<div>\n",
       "<style scoped>\n",
       "    .dataframe tbody tr th:only-of-type {\n",
       "        vertical-align: middle;\n",
       "    }\n",
       "\n",
       "    .dataframe tbody tr th {\n",
       "        vertical-align: top;\n",
       "    }\n",
       "\n",
       "    .dataframe thead th {\n",
       "        text-align: right;\n",
       "    }\n",
       "</style>\n",
       "<table border=\"1\" class=\"dataframe\">\n",
       "  <thead>\n",
       "    <tr style=\"text-align: right;\">\n",
       "      <th></th>\n",
       "      <th>incident_severity</th>\n",
       "      <th>incident_sev_cat</th>\n",
       "    </tr>\n",
       "  </thead>\n",
       "  <tbody>\n",
       "    <tr>\n",
       "      <td>0</td>\n",
       "      <td>Major Damage</td>\n",
       "      <td>0</td>\n",
       "    </tr>\n",
       "    <tr>\n",
       "      <td>1</td>\n",
       "      <td>Minor Damage</td>\n",
       "      <td>1</td>\n",
       "    </tr>\n",
       "    <tr>\n",
       "      <td>2</td>\n",
       "      <td>Minor Damage</td>\n",
       "      <td>1</td>\n",
       "    </tr>\n",
       "    <tr>\n",
       "      <td>3</td>\n",
       "      <td>Major Damage</td>\n",
       "      <td>0</td>\n",
       "    </tr>\n",
       "    <tr>\n",
       "      <td>4</td>\n",
       "      <td>Minor Damage</td>\n",
       "      <td>1</td>\n",
       "    </tr>\n",
       "    <tr>\n",
       "      <td>5</td>\n",
       "      <td>Major Damage</td>\n",
       "      <td>0</td>\n",
       "    </tr>\n",
       "    <tr>\n",
       "      <td>6</td>\n",
       "      <td>Minor Damage</td>\n",
       "      <td>1</td>\n",
       "    </tr>\n",
       "    <tr>\n",
       "      <td>7</td>\n",
       "      <td>Total Loss</td>\n",
       "      <td>2</td>\n",
       "    </tr>\n",
       "    <tr>\n",
       "      <td>8</td>\n",
       "      <td>Total Loss</td>\n",
       "      <td>2</td>\n",
       "    </tr>\n",
       "    <tr>\n",
       "      <td>9</td>\n",
       "      <td>Total Loss</td>\n",
       "      <td>2</td>\n",
       "    </tr>\n",
       "  </tbody>\n",
       "</table>\n",
       "</div>"
      ],
      "text/plain": [
       "  incident_severity  incident_sev_cat\n",
       "0      Major Damage                 0\n",
       "1      Minor Damage                 1\n",
       "2      Minor Damage                 1\n",
       "3      Major Damage                 0\n",
       "4      Minor Damage                 1\n",
       "5      Major Damage                 0\n",
       "6      Minor Damage                 1\n",
       "7        Total Loss                 2\n",
       "8        Total Loss                 2\n",
       "9        Total Loss                 2"
      ]
     },
     "execution_count": 91,
     "metadata": {},
     "output_type": "execute_result"
    }
   ],
   "source": [
    "# now doing the same for incident_severity\n",
    "claims['incident_sev_cat'] = claims['incident_severity'].cat.codes\n",
    "claims[['incident_severity','incident_sev_cat']].head(10)"
   ]
  },
  {
   "cell_type": "code",
   "execution_count": 92,
   "metadata": {},
   "outputs": [
    {
     "data": {
      "text/html": [
       "<div>\n",
       "<style scoped>\n",
       "    .dataframe tbody tr th:only-of-type {\n",
       "        vertical-align: middle;\n",
       "    }\n",
       "\n",
       "    .dataframe tbody tr th {\n",
       "        vertical-align: top;\n",
       "    }\n",
       "\n",
       "    .dataframe thead th {\n",
       "        text-align: right;\n",
       "    }\n",
       "</style>\n",
       "<table border=\"1\" class=\"dataframe\">\n",
       "  <thead>\n",
       "    <tr style=\"text-align: right;\">\n",
       "      <th></th>\n",
       "      <th>incident_severity</th>\n",
       "      <th>incident_sev_cat</th>\n",
       "    </tr>\n",
       "  </thead>\n",
       "  <tbody>\n",
       "    <tr>\n",
       "      <td>0</td>\n",
       "      <td>Major Damage</td>\n",
       "      <td>2</td>\n",
       "    </tr>\n",
       "    <tr>\n",
       "      <td>1</td>\n",
       "      <td>Minor Damage</td>\n",
       "      <td>1</td>\n",
       "    </tr>\n",
       "    <tr>\n",
       "      <td>2</td>\n",
       "      <td>Minor Damage</td>\n",
       "      <td>1</td>\n",
       "    </tr>\n",
       "    <tr>\n",
       "      <td>3</td>\n",
       "      <td>Major Damage</td>\n",
       "      <td>2</td>\n",
       "    </tr>\n",
       "    <tr>\n",
       "      <td>4</td>\n",
       "      <td>Minor Damage</td>\n",
       "      <td>1</td>\n",
       "    </tr>\n",
       "    <tr>\n",
       "      <td>5</td>\n",
       "      <td>Major Damage</td>\n",
       "      <td>2</td>\n",
       "    </tr>\n",
       "    <tr>\n",
       "      <td>6</td>\n",
       "      <td>Minor Damage</td>\n",
       "      <td>1</td>\n",
       "    </tr>\n",
       "    <tr>\n",
       "      <td>7</td>\n",
       "      <td>Total Loss</td>\n",
       "      <td>3</td>\n",
       "    </tr>\n",
       "    <tr>\n",
       "      <td>8</td>\n",
       "      <td>Total Loss</td>\n",
       "      <td>3</td>\n",
       "    </tr>\n",
       "    <tr>\n",
       "      <td>9</td>\n",
       "      <td>Total Loss</td>\n",
       "      <td>3</td>\n",
       "    </tr>\n",
       "  </tbody>\n",
       "</table>\n",
       "</div>"
      ],
      "text/plain": [
       "  incident_severity  incident_sev_cat\n",
       "0      Major Damage                 2\n",
       "1      Minor Damage                 1\n",
       "2      Minor Damage                 1\n",
       "3      Major Damage                 2\n",
       "4      Minor Damage                 1\n",
       "5      Major Damage                 2\n",
       "6      Minor Damage                 1\n",
       "7        Total Loss                 3\n",
       "8        Total Loss                 3\n",
       "9        Total Loss                 3"
      ]
     },
     "execution_count": 92,
     "metadata": {},
     "output_type": "execute_result"
    }
   ],
   "source": [
    "claims['incident_sev_cat'] = claims['incident_sev_cat'].replace([0,1,2,3],[2,1,3,0])\n",
    "claims[['incident_severity','incident_sev_cat']].head(10)"
   ]
  },
  {
   "cell_type": "markdown",
   "metadata": {},
   "source": [
    "### One hot encoding on other categorical columns"
   ]
  },
  {
   "cell_type": "code",
   "execution_count": 98,
   "metadata": {},
   "outputs": [],
   "source": [
    "dummyVar = pd.get_dummies(claims[['gender','relationship','occupation','hobbies','incident_type','collision_type','property_damage','police_report']])"
   ]
  },
  {
   "cell_type": "code",
   "execution_count": 99,
   "metadata": {},
   "outputs": [
    {
     "data": {
      "text/html": [
       "<div>\n",
       "<style scoped>\n",
       "    .dataframe tbody tr th:only-of-type {\n",
       "        vertical-align: middle;\n",
       "    }\n",
       "\n",
       "    .dataframe tbody tr th {\n",
       "        vertical-align: top;\n",
       "    }\n",
       "\n",
       "    .dataframe thead th {\n",
       "        text-align: right;\n",
       "    }\n",
       "</style>\n",
       "<table border=\"1\" class=\"dataframe\">\n",
       "  <thead>\n",
       "    <tr style=\"text-align: right;\">\n",
       "      <th></th>\n",
       "      <th>gender_FEMALE</th>\n",
       "      <th>gender_MALE</th>\n",
       "      <th>relationship_husband</th>\n",
       "      <th>relationship_not-in-family</th>\n",
       "      <th>relationship_other-relative</th>\n",
       "      <th>relationship_own-child</th>\n",
       "      <th>relationship_unmarried</th>\n",
       "      <th>relationship_wife</th>\n",
       "      <th>occupation_adm-clerical</th>\n",
       "      <th>occupation_armed-forces</th>\n",
       "      <th>...</th>\n",
       "      <th>collision_type_Front Collision</th>\n",
       "      <th>collision_type_No Collision</th>\n",
       "      <th>collision_type_Rear Collision</th>\n",
       "      <th>collision_type_Side Collision</th>\n",
       "      <th>property_damage_NO</th>\n",
       "      <th>property_damage_Unknown</th>\n",
       "      <th>property_damage_YES</th>\n",
       "      <th>police_report_NO</th>\n",
       "      <th>police_report_Unknown</th>\n",
       "      <th>police_report_YES</th>\n",
       "    </tr>\n",
       "  </thead>\n",
       "  <tbody>\n",
       "    <tr>\n",
       "      <td>0</td>\n",
       "      <td>0</td>\n",
       "      <td>1</td>\n",
       "      <td>1</td>\n",
       "      <td>0</td>\n",
       "      <td>0</td>\n",
       "      <td>0</td>\n",
       "      <td>0</td>\n",
       "      <td>0</td>\n",
       "      <td>0</td>\n",
       "      <td>0</td>\n",
       "      <td>...</td>\n",
       "      <td>0</td>\n",
       "      <td>0</td>\n",
       "      <td>0</td>\n",
       "      <td>1</td>\n",
       "      <td>0</td>\n",
       "      <td>0</td>\n",
       "      <td>1</td>\n",
       "      <td>0</td>\n",
       "      <td>0</td>\n",
       "      <td>1</td>\n",
       "    </tr>\n",
       "    <tr>\n",
       "      <td>1</td>\n",
       "      <td>0</td>\n",
       "      <td>1</td>\n",
       "      <td>0</td>\n",
       "      <td>0</td>\n",
       "      <td>1</td>\n",
       "      <td>0</td>\n",
       "      <td>0</td>\n",
       "      <td>0</td>\n",
       "      <td>0</td>\n",
       "      <td>0</td>\n",
       "      <td>...</td>\n",
       "      <td>0</td>\n",
       "      <td>1</td>\n",
       "      <td>0</td>\n",
       "      <td>0</td>\n",
       "      <td>0</td>\n",
       "      <td>1</td>\n",
       "      <td>0</td>\n",
       "      <td>0</td>\n",
       "      <td>1</td>\n",
       "      <td>0</td>\n",
       "    </tr>\n",
       "    <tr>\n",
       "      <td>2</td>\n",
       "      <td>1</td>\n",
       "      <td>0</td>\n",
       "      <td>0</td>\n",
       "      <td>0</td>\n",
       "      <td>0</td>\n",
       "      <td>1</td>\n",
       "      <td>0</td>\n",
       "      <td>0</td>\n",
       "      <td>0</td>\n",
       "      <td>0</td>\n",
       "      <td>...</td>\n",
       "      <td>0</td>\n",
       "      <td>0</td>\n",
       "      <td>1</td>\n",
       "      <td>0</td>\n",
       "      <td>1</td>\n",
       "      <td>0</td>\n",
       "      <td>0</td>\n",
       "      <td>1</td>\n",
       "      <td>0</td>\n",
       "      <td>0</td>\n",
       "    </tr>\n",
       "    <tr>\n",
       "      <td>3</td>\n",
       "      <td>1</td>\n",
       "      <td>0</td>\n",
       "      <td>0</td>\n",
       "      <td>0</td>\n",
       "      <td>0</td>\n",
       "      <td>0</td>\n",
       "      <td>1</td>\n",
       "      <td>0</td>\n",
       "      <td>0</td>\n",
       "      <td>1</td>\n",
       "      <td>...</td>\n",
       "      <td>1</td>\n",
       "      <td>0</td>\n",
       "      <td>0</td>\n",
       "      <td>0</td>\n",
       "      <td>0</td>\n",
       "      <td>1</td>\n",
       "      <td>0</td>\n",
       "      <td>1</td>\n",
       "      <td>0</td>\n",
       "      <td>0</td>\n",
       "    </tr>\n",
       "    <tr>\n",
       "      <td>4</td>\n",
       "      <td>0</td>\n",
       "      <td>1</td>\n",
       "      <td>0</td>\n",
       "      <td>0</td>\n",
       "      <td>0</td>\n",
       "      <td>0</td>\n",
       "      <td>1</td>\n",
       "      <td>0</td>\n",
       "      <td>0</td>\n",
       "      <td>0</td>\n",
       "      <td>...</td>\n",
       "      <td>0</td>\n",
       "      <td>1</td>\n",
       "      <td>0</td>\n",
       "      <td>0</td>\n",
       "      <td>1</td>\n",
       "      <td>0</td>\n",
       "      <td>0</td>\n",
       "      <td>1</td>\n",
       "      <td>0</td>\n",
       "      <td>0</td>\n",
       "    </tr>\n",
       "  </tbody>\n",
       "</table>\n",
       "<p>5 rows × 56 columns</p>\n",
       "</div>"
      ],
      "text/plain": [
       "   gender_FEMALE  gender_MALE  relationship_husband  \\\n",
       "0              0            1                     1   \n",
       "1              0            1                     0   \n",
       "2              1            0                     0   \n",
       "3              1            0                     0   \n",
       "4              0            1                     0   \n",
       "\n",
       "   relationship_not-in-family  relationship_other-relative  \\\n",
       "0                           0                            0   \n",
       "1                           0                            1   \n",
       "2                           0                            0   \n",
       "3                           0                            0   \n",
       "4                           0                            0   \n",
       "\n",
       "   relationship_own-child  relationship_unmarried  relationship_wife  \\\n",
       "0                       0                       0                  0   \n",
       "1                       0                       0                  0   \n",
       "2                       1                       0                  0   \n",
       "3                       0                       1                  0   \n",
       "4                       0                       1                  0   \n",
       "\n",
       "   occupation_adm-clerical  occupation_armed-forces  ...  \\\n",
       "0                        0                        0  ...   \n",
       "1                        0                        0  ...   \n",
       "2                        0                        0  ...   \n",
       "3                        0                        1  ...   \n",
       "4                        0                        0  ...   \n",
       "\n",
       "   collision_type_Front Collision  collision_type_No Collision  \\\n",
       "0                               0                            0   \n",
       "1                               0                            1   \n",
       "2                               0                            0   \n",
       "3                               1                            0   \n",
       "4                               0                            1   \n",
       "\n",
       "   collision_type_Rear Collision  collision_type_Side Collision  \\\n",
       "0                              0                              1   \n",
       "1                              0                              0   \n",
       "2                              1                              0   \n",
       "3                              0                              0   \n",
       "4                              0                              0   \n",
       "\n",
       "   property_damage_NO  property_damage_Unknown  property_damage_YES  \\\n",
       "0                   0                        0                    1   \n",
       "1                   0                        1                    0   \n",
       "2                   1                        0                    0   \n",
       "3                   0                        1                    0   \n",
       "4                   1                        0                    0   \n",
       "\n",
       "   police_report_NO  police_report_Unknown  police_report_YES  \n",
       "0                 0                      0                  1  \n",
       "1                 0                      1                  0  \n",
       "2                 1                      0                  0  \n",
       "3                 1                      0                  0  \n",
       "4                 1                      0                  0  \n",
       "\n",
       "[5 rows x 56 columns]"
      ]
     },
     "execution_count": 99,
     "metadata": {},
     "output_type": "execute_result"
    }
   ],
   "source": [
    "\n",
    "dummyVar.head()"
   ]
  },
  {
   "cell_type": "code",
   "execution_count": 350,
   "metadata": {},
   "outputs": [
    {
     "data": {
      "text/plain": [
       "Index(['gender_FEMALE', 'gender_MALE', 'relationship_husband',\n",
       "       'relationship_not-in-family', 'relationship_other-relative',\n",
       "       'relationship_own-child', 'relationship_unmarried', 'relationship_wife',\n",
       "       'occupation_adm-clerical', 'occupation_armed-forces',\n",
       "       'occupation_craft-repair', 'occupation_exec-managerial',\n",
       "       'occupation_farming-fishing', 'occupation_handlers-cleaners',\n",
       "       'occupation_machine-op-inspct', 'occupation_other-service',\n",
       "       'occupation_priv-house-serv', 'occupation_prof-specialty',\n",
       "       'occupation_protective-serv', 'occupation_sales',\n",
       "       'occupation_tech-support', 'occupation_transport-moving',\n",
       "       'hobbies_base-jumping', 'hobbies_basketball', 'hobbies_board-games',\n",
       "       'hobbies_bungie-jumping', 'hobbies_camping', 'hobbies_chess',\n",
       "       'hobbies_cross-fit', 'hobbies_dancing', 'hobbies_exercise',\n",
       "       'hobbies_golf', 'hobbies_hiking', 'hobbies_kayaking', 'hobbies_movies',\n",
       "       'hobbies_paintball', 'hobbies_polo', 'hobbies_reading',\n",
       "       'hobbies_skydiving', 'hobbies_sleeping', 'hobbies_video-games',\n",
       "       'hobbies_yachting', 'incident_type_Multi-vehicle Collision',\n",
       "       'incident_type_Parked Car', 'incident_type_Single Vehicle Collision',\n",
       "       'incident_type_Vehicle Theft', 'collision_type_Front Collision',\n",
       "       'collision_type_No Collision', 'collision_type_Rear Collision',\n",
       "       'collision_type_Side Collision', 'property_damage_NO',\n",
       "       'property_damage_Unknown', 'property_damage_YES', 'police_report_NO',\n",
       "       'police_report_Unknown', 'police_report_YES', 'months_as_customer',\n",
       "       'age', 'deductable', 'annual_premium', 'umbrella_limit',\n",
       "       'number_of_vehicles', 'bodily_injuries', 'witnesses', 'total_claim',\n",
       "       'auto_year', 'fraud_reported', 'education_cat', 'incident_sev_cat'],\n",
       "      dtype='object')"
      ]
     },
     "execution_count": 350,
     "metadata": {},
     "output_type": "execute_result"
    }
   ],
   "source": [
    "claims_new = pd.concat([dummyVar, claims], axis=1)\n",
    "claims_new = claims_new.drop(['gender','relationship','occupation','hobbies','incident_type','collision_type','property_damage','police_report','education','incident_severity'], axis=1)\n",
    "claims_new.columns\n"
   ]
  },
  {
   "cell_type": "markdown",
   "metadata": {},
   "source": [
    "### Check correlation among numeric features"
   ]
  },
  {
   "cell_type": "code",
   "execution_count": 351,
   "metadata": {},
   "outputs": [
    {
     "data": {
      "text/plain": [
       "<matplotlib.axes._subplots.AxesSubplot at 0x7fc4b8eb8a10>"
      ]
     },
     "execution_count": 351,
     "metadata": {},
     "output_type": "execute_result"
    },
    {
     "data": {
      "image/png": "[encoded data removed]",
      "text/plain": [
       "<Figure size 720x360 with 2 Axes>"
      ]
     },
     "metadata": {
      "needs_background": "light"
     },
     "output_type": "display_data"
    }
   ],
   "source": [
    "corr = claims.corr()\n",
    "plt.figure(figsize=(10,5))\n",
    "sns.heatmap(corr, vmin=-1, vmax=1)"
   ]
  },
  {
   "cell_type": "markdown",
   "metadata": {},
   "source": [
    "#### Drop highly correlated feature"
   ]
  },
  {
   "cell_type": "code",
   "execution_count": 352,
   "metadata": {},
   "outputs": [],
   "source": [
    "claims_new = claims_new.drop('age',1)"
   ]
  },
  {
   "cell_type": "markdown",
   "metadata": {},
   "source": [
    "#### Move the dependent variable to the end of the dataset"
   ]
  },
  {
   "cell_type": "code",
   "execution_count": 353,
   "metadata": {},
   "outputs": [
    {
     "data": {
      "text/html": [
       "<div>\n",
       "<style scoped>\n",
       "    .dataframe tbody tr th:only-of-type {\n",
       "        vertical-align: middle;\n",
       "    }\n",
       "\n",
       "    .dataframe tbody tr th {\n",
       "        vertical-align: top;\n",
       "    }\n",
       "\n",
       "    .dataframe thead th {\n",
       "        text-align: right;\n",
       "    }\n",
       "</style>\n",
       "<table border=\"1\" class=\"dataframe\">\n",
       "  <thead>\n",
       "    <tr style=\"text-align: right;\">\n",
       "      <th></th>\n",
       "      <th>gender_FEMALE</th>\n",
       "      <th>gender_MALE</th>\n",
       "      <th>relationship_husband</th>\n",
       "      <th>relationship_not-in-family</th>\n",
       "      <th>relationship_other-relative</th>\n",
       "      <th>relationship_own-child</th>\n",
       "      <th>relationship_unmarried</th>\n",
       "      <th>relationship_wife</th>\n",
       "      <th>occupation_adm-clerical</th>\n",
       "      <th>occupation_armed-forces</th>\n",
       "      <th>...</th>\n",
       "      <th>annual_premium</th>\n",
       "      <th>umbrella_limit</th>\n",
       "      <th>number_of_vehicles</th>\n",
       "      <th>bodily_injuries</th>\n",
       "      <th>witnesses</th>\n",
       "      <th>total_claim</th>\n",
       "      <th>auto_year</th>\n",
       "      <th>education_cat</th>\n",
       "      <th>incident_sev_cat</th>\n",
       "      <th>fraud</th>\n",
       "    </tr>\n",
       "  </thead>\n",
       "  <tbody>\n",
       "    <tr>\n",
       "      <td>0</td>\n",
       "      <td>0</td>\n",
       "      <td>1</td>\n",
       "      <td>1</td>\n",
       "      <td>0</td>\n",
       "      <td>0</td>\n",
       "      <td>0</td>\n",
       "      <td>0</td>\n",
       "      <td>0</td>\n",
       "      <td>0</td>\n",
       "      <td>0</td>\n",
       "      <td>...</td>\n",
       "      <td>1406.91</td>\n",
       "      <td>0</td>\n",
       "      <td>1</td>\n",
       "      <td>1</td>\n",
       "      <td>2</td>\n",
       "      <td>71610</td>\n",
       "      <td>2004</td>\n",
       "      <td>3</td>\n",
       "      <td>2</td>\n",
       "      <td>Y</td>\n",
       "    </tr>\n",
       "    <tr>\n",
       "      <td>1</td>\n",
       "      <td>0</td>\n",
       "      <td>1</td>\n",
       "      <td>0</td>\n",
       "      <td>0</td>\n",
       "      <td>1</td>\n",
       "      <td>0</td>\n",
       "      <td>0</td>\n",
       "      <td>0</td>\n",
       "      <td>0</td>\n",
       "      <td>0</td>\n",
       "      <td>...</td>\n",
       "      <td>1197.22</td>\n",
       "      <td>5000000</td>\n",
       "      <td>1</td>\n",
       "      <td>0</td>\n",
       "      <td>0</td>\n",
       "      <td>5070</td>\n",
       "      <td>2007</td>\n",
       "      <td>3</td>\n",
       "      <td>1</td>\n",
       "      <td>Y</td>\n",
       "    </tr>\n",
       "    <tr>\n",
       "      <td>2</td>\n",
       "      <td>1</td>\n",
       "      <td>0</td>\n",
       "      <td>0</td>\n",
       "      <td>0</td>\n",
       "      <td>0</td>\n",
       "      <td>1</td>\n",
       "      <td>0</td>\n",
       "      <td>0</td>\n",
       "      <td>0</td>\n",
       "      <td>0</td>\n",
       "      <td>...</td>\n",
       "      <td>1413.14</td>\n",
       "      <td>5000000</td>\n",
       "      <td>3</td>\n",
       "      <td>2</td>\n",
       "      <td>3</td>\n",
       "      <td>34650</td>\n",
       "      <td>2007</td>\n",
       "      <td>3</td>\n",
       "      <td>1</td>\n",
       "      <td>N</td>\n",
       "    </tr>\n",
       "    <tr>\n",
       "      <td>3</td>\n",
       "      <td>1</td>\n",
       "      <td>0</td>\n",
       "      <td>0</td>\n",
       "      <td>0</td>\n",
       "      <td>0</td>\n",
       "      <td>0</td>\n",
       "      <td>1</td>\n",
       "      <td>0</td>\n",
       "      <td>0</td>\n",
       "      <td>1</td>\n",
       "      <td>...</td>\n",
       "      <td>1415.74</td>\n",
       "      <td>6000000</td>\n",
       "      <td>1</td>\n",
       "      <td>1</td>\n",
       "      <td>2</td>\n",
       "      <td>63400</td>\n",
       "      <td>2014</td>\n",
       "      <td>3</td>\n",
       "      <td>2</td>\n",
       "      <td>Y</td>\n",
       "    </tr>\n",
       "    <tr>\n",
       "      <td>4</td>\n",
       "      <td>0</td>\n",
       "      <td>1</td>\n",
       "      <td>0</td>\n",
       "      <td>0</td>\n",
       "      <td>0</td>\n",
       "      <td>0</td>\n",
       "      <td>1</td>\n",
       "      <td>0</td>\n",
       "      <td>0</td>\n",
       "      <td>0</td>\n",
       "      <td>...</td>\n",
       "      <td>1583.91</td>\n",
       "      <td>6000000</td>\n",
       "      <td>1</td>\n",
       "      <td>0</td>\n",
       "      <td>1</td>\n",
       "      <td>6500</td>\n",
       "      <td>2009</td>\n",
       "      <td>1</td>\n",
       "      <td>1</td>\n",
       "      <td>N</td>\n",
       "    </tr>\n",
       "  </tbody>\n",
       "</table>\n",
       "<p>5 rows × 68 columns</p>\n",
       "</div>"
      ],
      "text/plain": [
       "   gender_FEMALE  gender_MALE  relationship_husband  \\\n",
       "0              0            1                     1   \n",
       "1              0            1                     0   \n",
       "2              1            0                     0   \n",
       "3              1            0                     0   \n",
       "4              0            1                     0   \n",
       "\n",
       "   relationship_not-in-family  relationship_other-relative  \\\n",
       "0                           0                            0   \n",
       "1                           0                            1   \n",
       "2                           0                            0   \n",
       "3                           0                            0   \n",
       "4                           0                            0   \n",
       "\n",
       "   relationship_own-child  relationship_unmarried  relationship_wife  \\\n",
       "0                       0                       0                  0   \n",
       "1                       0                       0                  0   \n",
       "2                       1                       0                  0   \n",
       "3                       0                       1                  0   \n",
       "4                       0                       1                  0   \n",
       "\n",
       "   occupation_adm-clerical  occupation_armed-forces  ...  annual_premium  \\\n",
       "0                        0                        0  ...         1406.91   \n",
       "1                        0                        0  ...         1197.22   \n",
       "2                        0                        0  ...         1413.14   \n",
       "3                        0                        1  ...         1415.74   \n",
       "4                        0                        0  ...         1583.91   \n",
       "\n",
       "   umbrella_limit  number_of_vehicles  bodily_injuries  witnesses  \\\n",
       "0               0                   1                1          2   \n",
       "1         5000000                   1                0          0   \n",
       "2         5000000                   3                2          3   \n",
       "3         6000000                   1                1          2   \n",
       "4         6000000                   1                0          1   \n",
       "\n",
       "   total_claim  auto_year  education_cat  incident_sev_cat  fraud  \n",
       "0        71610       2004              3                 2      Y  \n",
       "1         5070       2007              3                 1      Y  \n",
       "2        34650       2007              3                 1      N  \n",
       "3        63400       2014              3                 2      Y  \n",
       "4         6500       2009              1                 1      N  \n",
       "\n",
       "[5 rows x 68 columns]"
      ]
     },
     "execution_count": 353,
     "metadata": {},
     "output_type": "execute_result"
    }
   ],
   "source": [
    "claims_new['fraud'] = claims_new['fraud_reported']\n",
    "claims_new = claims_new.drop('fraud_reported', axis=1)\n",
    "claims_new.head()"
   ]
  },
  {
   "cell_type": "markdown",
   "metadata": {},
   "source": [
    "### Binning 'months_as_customer'"
   ]
  },
  {
   "cell_type": "code",
   "execution_count": 354,
   "metadata": {},
   "outputs": [
    {
     "data": {
      "text/plain": [
       "2    359\n",
       "3    269\n",
       "1    263\n",
       "4    109\n",
       "Name: months_as_customer, dtype: int64"
      ]
     },
     "execution_count": 354,
     "metadata": {},
     "output_type": "execute_result"
    }
   ],
   "source": [
    "claims_new['months_as_customer'] = pd.cut(x=claims_new['months_as_customer'], bins=[-np.inf,120,240,360,480], labels=[1,2,3,4])\n",
    "#labels=['10y','20y','30y','40y']\n",
    "claims_new['months_as_customer'].value_counts()"
   ]
  },
  {
   "cell_type": "code",
   "execution_count": 355,
   "metadata": {},
   "outputs": [],
   "source": [
    "claims_new['months_as_customer'] = pd.to_numeric(claims_new['months_as_customer'])"
   ]
  },
  {
   "cell_type": "markdown",
   "metadata": {},
   "source": [
    "## Exploratory Analysis "
   ]
  },
  {
   "cell_type": "code",
   "execution_count": 356,
   "metadata": {},
   "outputs": [
    {
     "name": "stdout",
     "output_type": "stream",
     "text": [
      "24.7 %\n"
     ]
    }
   ],
   "source": [
    "# check the percentage of fraud\n",
    "print(round(sum(claims_new['fraud'] == 'Y') / len(claims_new['fraud']) * 100, 2),'%')\n"
   ]
  },
  {
   "cell_type": "code",
   "execution_count": 357,
   "metadata": {},
   "outputs": [
    {
     "data": {
      "text/plain": [
       "<matplotlib.axes._subplots.AxesSubplot at 0x7fc4b9001c90>"
      ]
     },
     "execution_count": 357,
     "metadata": {},
     "output_type": "execute_result"
    },
    {
     "data": {
      "image/png": "[encoded data removed]",
      "text/plain": [
       "<Figure size 432x288 with 1 Axes>"
      ]
     },
     "metadata": {
      "needs_background": "light"
     },
     "output_type": "display_data"
    }
   ],
   "source": [
    "claims_new.groupby('fraud')['fraud'].count().plot.bar()"
   ]
  },
  {
   "cell_type": "code",
   "execution_count": 210,
   "metadata": {},
   "outputs": [
    {
     "data": {
      "text/plain": [
       "<seaborn.axisgrid.FacetGrid at 0x7fc4c125afd0>"
      ]
     },
     "execution_count": 210,
     "metadata": {},
     "output_type": "execute_result"
    },
    {
     "data": {
      "image/png": "[encoded data removed]",
      "text/plain": [
       "<Figure size 658.625x288 with 1 Axes>"
      ]
     },
     "metadata": {
      "needs_background": "light"
     },
     "output_type": "display_data"
    }
   ],
   "source": [
    "sns.catplot(x='incident_type', data=claims, hue='fraud_reported', kind='count',  height = 4,aspect=2)"
   ]
  },
  {
   "cell_type": "code",
   "execution_count": 211,
   "metadata": {},
   "outputs": [
    {
     "data": {
      "text/plain": [
       "<seaborn.axisgrid.FacetGrid at 0x7fc4dfaf2c50>"
      ]
     },
     "execution_count": 211,
     "metadata": {},
     "output_type": "execute_result"
    },
    {
     "data": {
      "image/png": "[encoded data removed]",
      "text/plain": [
       "<Figure size 658.625x288 with 1 Axes>"
      ]
     },
     "metadata": {
      "needs_background": "light"
     },
     "output_type": "display_data"
    }
   ],
   "source": [
    "sns.catplot(x='collision_type', data=claims, hue='fraud_reported', kind='count', height = 4,aspect=2)"
   ]
  },
  {
   "cell_type": "code",
   "execution_count": 431,
   "metadata": {},
   "outputs": [
    {
     "data": {
      "text/plain": [
       "<seaborn.axisgrid.FacetGrid at 0x7fc4b9310b10>"
      ]
     },
     "execution_count": 431,
     "metadata": {},
     "output_type": "execute_result"
    },
    {
     "data": {
      "image/png": "[encoded data removed]",
      "text/plain": [
       "<Figure size 658.625x288 with 1 Axes>"
      ]
     },
     "metadata": {
      "needs_background": "light"
     },
     "output_type": "display_data"
    }
   ],
   "source": [
    "sns.catplot(x='incident_severity', data=claims, hue='fraud_reported', kind='count', height = 4,aspect=2)"
   ]
  },
  {
   "cell_type": "code",
   "execution_count": 228,
   "metadata": {},
   "outputs": [
    {
     "data": {
      "text/plain": [
       "<seaborn.axisgrid.FacetGrid at 0x7fc4b7da4a10>"
      ]
     },
     "execution_count": 228,
     "metadata": {},
     "output_type": "execute_result"
    },
    {
     "data": {
      "image/png": "[encoded data removed]",
      "text/plain": [
       "<Figure size 1234.62x288 with 1 Axes>"
      ]
     },
     "metadata": {
      "needs_background": "light"
     },
     "output_type": "display_data"
    }
   ],
   "source": [
    "sns.catplot(x='hobbies', data=claims, hue='fraud_reported', kind='count', height = 4,aspect=4)"
   ]
  },
  {
   "cell_type": "code",
   "execution_count": 419,
   "metadata": {},
   "outputs": [
    {
     "data": {
      "text/plain": [
       "hobbies\n",
       "reading           64\n",
       "exercise          57\n",
       "paintball         57\n",
       "bungie-jumping    56\n",
       "golf              55\n",
       "camping           55\n",
       "movies            55\n",
       "kayaking          54\n",
       "yachting          53\n",
       "hiking            52\n",
       "video-games       50\n",
       "skydiving         49\n",
       "base-jumping      49\n",
       "board-games       48\n",
       "polo              47\n",
       "chess             46\n",
       "dancing           43\n",
       "sleeping          41\n",
       "cross-fit         35\n",
       "basketball        34\n",
       "Name: hobbies, dtype: int64"
      ]
     },
     "execution_count": 419,
     "metadata": {},
     "output_type": "execute_result"
    }
   ],
   "source": [
    "claims.groupby('hobbies')['hobbies'].count().sort_values(ascending=False)"
   ]
  },
  {
   "cell_type": "markdown",
   "metadata": {},
   "source": [
    "## Machine Learning "
   ]
  },
  {
   "cell_type": "code",
   "execution_count": 239,
   "metadata": {},
   "outputs": [],
   "source": [
    "from sklearn.model_selection import train_test_split\n",
    "from sklearn.feature_selection import chi2"
   ]
  },
  {
   "cell_type": "code",
   "execution_count": 243,
   "metadata": {},
   "outputs": [],
   "source": [
    "from sklearn.ensemble import RandomForestClassifier\n",
    "from sklearn.ensemble import GradientBoostingClassifier"
   ]
  },
  {
   "cell_type": "code",
   "execution_count": 358,
   "metadata": {},
   "outputs": [],
   "source": [
    "claimsML = claims_new"
   ]
  },
  {
   "cell_type": "markdown",
   "metadata": {},
   "source": [
    "### Use all variables to create baseline models"
   ]
  },
  {
   "cell_type": "code",
   "execution_count": 359,
   "metadata": {},
   "outputs": [],
   "source": [
    "claimsML_all = claimsML"
   ]
  },
  {
   "cell_type": "code",
   "execution_count": 360,
   "metadata": {},
   "outputs": [],
   "source": [
    "X_all = claimsML_all.iloc[:,:-1]\n",
    "y_all = claimsML_all.iloc[:,-1]\n",
    "X_all_train, X_all_test, y_all_train, y_all_test = train_test_split(X_all, y_all, test_size = 0.3, random_state=0)"
   ]
  },
  {
   "cell_type": "code",
   "execution_count": 361,
   "metadata": {},
   "outputs": [
    {
     "name": "stdout",
     "output_type": "stream",
     "text": [
      "Train (700, 67) (700,)\n",
      "Test (300, 67) (300,)\n"
     ]
    }
   ],
   "source": [
    "print('Train', X_all_train.shape, y_all_train.shape)\n",
    "print('Test', X_all_test.shape, y_all_test.shape)"
   ]
  },
  {
   "cell_type": "markdown",
   "metadata": {},
   "source": [
    "#### Random Forest"
   ]
  },
  {
   "cell_type": "code",
   "execution_count": 362,
   "metadata": {},
   "outputs": [],
   "source": [
    "rfClassifer = RandomForestClassifier(n_estimators=20)\n",
    "rf = rfClassifer.fit(X_all_train, y_all_train)\n",
    "rfTrainPred = rf.predict(X_all_train)\n",
    "rfPred = rf.predict(X_all_test)"
   ]
  },
  {
   "cell_type": "code",
   "execution_count": 262,
   "metadata": {},
   "outputs": [],
   "source": [
    "from sklearn.metrics import confusion_matrix\n",
    "from sklearn.metrics import accuracy_score, f1_score"
   ]
  },
  {
   "cell_type": "code",
   "execution_count": 420,
   "metadata": {},
   "outputs": [
    {
     "name": "stdout",
     "output_type": "stream",
     "text": [
      "Accuracy on train is: 0.9957142857142857\n",
      "Accuracy on test is: 0.7566666666666667\n",
      "              precision    recall  f1-score   support\n",
      "\n",
      "           N       0.77      0.96      0.85       223\n",
      "           Y       0.59      0.17      0.26        77\n",
      "\n",
      "    accuracy                           0.76       300\n",
      "   macro avg       0.68      0.56      0.56       300\n",
      "weighted avg       0.72      0.76      0.70       300\n",
      "\n"
     ]
    }
   ],
   "source": [
    "print(\"Accuracy on train is:\",accuracy_score(y_all_train,rfTrainPred))\n",
    "print(\"Accuracy on test is:\",accuracy_score(y_all_test, rfPred))\n",
    "\n",
    "from sklearn.metrics import classification_report \n",
    "rfreport = classification_report(y_all_test, rfPred)\n",
    "print(rfreport)"
   ]
  },
  {
   "cell_type": "markdown",
   "metadata": {},
   "source": [
    "#### Gradient Boosting"
   ]
  },
  {
   "cell_type": "code",
   "execution_count": 364,
   "metadata": {},
   "outputs": [
    {
     "name": "stdout",
     "output_type": "stream",
     "text": [
      "Accuracy on train is: 0.9528571428571428\n",
      "Accuracy on test is: 0.8166666666666667\n"
     ]
    }
   ],
   "source": [
    "gbClassifer = GradientBoostingClassifier(n_estimators=100, learning_rate=0.1)\n",
    "gb = gbClassifer.fit(X_all_train, y_all_train)\n",
    "gbTrainPred = gb.predict(X_all_train)\n",
    "gbPred = gb.predict(X_all_test)\n",
    "print(\"Accuracy on train is:\",accuracy_score(y_all_train,gbTrainPred))\n",
    "print(\"Accuracy on test is:\",accuracy_score(y_all_test, gbPred))"
   ]
  },
  {
   "cell_type": "code",
   "execution_count": 365,
   "metadata": {},
   "outputs": [
    {
     "name": "stdout",
     "output_type": "stream",
     "text": [
      "              precision    recall  f1-score   support\n",
      "\n",
      "           N       0.86      0.90      0.88       223\n",
      "           Y       0.66      0.58      0.62        77\n",
      "\n",
      "    accuracy                           0.82       300\n",
      "   macro avg       0.76      0.74      0.75       300\n",
      "weighted avg       0.81      0.82      0.81       300\n",
      "\n"
     ]
    }
   ],
   "source": [
    "gbreport = classification_report(y_all_test, gbPred)\n",
    "print(gbreport)"
   ]
  },
  {
   "cell_type": "markdown",
   "metadata": {},
   "source": [
    "#### Check feature importance"
   ]
  },
  {
   "cell_type": "code",
   "execution_count": 366,
   "metadata": {},
   "outputs": [],
   "source": [
    "featureImp = pd.Series(gbClassifer.feature_importances_, list(X_all_train)).sort_values(ascending=False)[:10]"
   ]
  },
  {
   "cell_type": "code",
   "execution_count": 367,
   "metadata": {},
   "outputs": [
    {
     "data": {
      "text/plain": [
       "Text(0, 0.5, 'Feature Importance Score')"
      ]
     },
     "execution_count": 367,
     "metadata": {},
     "output_type": "execute_result"
    },
    {
     "data": {
      "image/png": "[encoded data removed]",
      "text/plain": [
       "<Figure size 432x288 with 1 Axes>"
      ]
     },
     "metadata": {
      "needs_background": "light"
     },
     "output_type": "display_data"
    }
   ],
   "source": [
    "featureImp.plot(kind='bar', title='Importance of Features' )\n",
    "plt.ylabel('Feature Importance Score')"
   ]
  },
  {
   "cell_type": "markdown",
   "metadata": {},
   "source": [
    "## Feature selection, chi-squared\n",
    "### Use selected features to run Gradient Boosting"
   ]
  },
  {
   "cell_type": "code",
   "execution_count": 342,
   "metadata": {},
   "outputs": [],
   "source": [
    "from sklearn.feature_selection import SelectKBest"
   ]
  },
  {
   "cell_type": "code",
   "execution_count": 410,
   "metadata": {},
   "outputs": [
    {
     "name": "stdout",
     "output_type": "stream",
     "text": [
      "Accuracy on train is: 0.9528571428571428\n",
      "Accuracy on test is: 0.8166666666666667\n",
      "              precision    recall  f1-score   support\n",
      "\n",
      "           N       0.89      0.92      0.91       223\n",
      "           Y       0.75      0.66      0.70        77\n",
      "\n",
      "    accuracy                           0.86       300\n",
      "   macro avg       0.82      0.79      0.80       300\n",
      "weighted avg       0.85      0.86      0.85       300\n",
      "\n"
     ]
    }
   ],
   "source": [
    "fs = SelectKBest(score_func=chi2, k=60)\n",
    "fs.fit(X_all_train, y_all_train)\n",
    "X_fs_train = fs.transform(X_all_train)\n",
    "X_fs_test = fs.transform(X_all_test)\n",
    "\n",
    "gbClassifer = GradientBoostingClassifier(n_estimators=100, learning_rate=0.1)\n",
    "gb_fs = gbClassifer.fit(X_fs_train, y_all_train)\n",
    "gbTrainPred_fs = gb_fs.predict(X_fs_train)\n",
    "gbPred_fs = gb_fs.predict(X_fs_test)\n",
    "print(\"Accuracy on train is:\",accuracy_score(y_all_train,gbTrainPred))\n",
    "print(\"Accuracy on test is:\",accuracy_score(y_all_test, gbPred))\n",
    "gbreport_fs = classification_report(y_all_test, gbPred_fs)\n",
    "print(gbreport_fs)"
   ]
  },
  {
   "cell_type": "code",
   "execution_count": 414,
   "metadata": {},
   "outputs": [],
   "source": [
    "features = fs.get_support(indices=True)\n",
    "features_fs = X_all_train.iloc[:,features]"
   ]
  },
  {
   "cell_type": "code",
   "execution_count": 415,
   "metadata": {},
   "outputs": [
    {
     "data": {
      "text/plain": [
       "Text(0, 0.5, 'Feature Importance Score')"
      ]
     },
     "execution_count": 415,
     "metadata": {},
     "output_type": "execute_result"
    },
    {
     "data": {
      "image/png": "[encoded data removed]",
      "text/plain": [
       "<Figure size 432x288 with 1 Axes>"
      ]
     },
     "metadata": {
      "needs_background": "light"
     },
     "output_type": "display_data"
    }
   ],
   "source": [
    "featureImp_fs = pd.Series(gbClassifer.feature_importances_, list(features_fs)).sort_values(ascending=False)[:10]\n",
    "featureImp_fs.plot(kind='bar', title='Importance of Features' )\n",
    "plt.ylabel('Feature Importance Score')"
   ]
  },
  {
   "cell_type": "markdown",
   "metadata": {},
   "source": [
    "## Grid search for finding optimal hyperparameters"
   ]
  },
  {
   "cell_type": "code",
   "execution_count": 423,
   "metadata": {},
   "outputs": [
    {
     "name": "stdout",
     "output_type": "stream",
     "text": [
      "0.9112499263737855\n",
      "{'learning_rate': 0.07, 'n_estimators': 50}\n"
     ]
    }
   ],
   "source": [
    "from sklearn.model_selection import GridSearchCV\n",
    "\n",
    "param_grid={'n_estimators':[30,50,70,100,120,150,170,200], \n",
    "            'learning_rate': [0.05, 0.07,0.1, 0.12,0.15]}\n",
    "gridSearch= GridSearchCV(GradientBoostingClassifier(), param_grid, cv=3, scoring='f1_weighted')\n",
    "gridSearch.fit(X_fs_train, y_all_train)\n",
    "print(gridSearch.score(X_fs_train, y_all_train))\n",
    "print(gridSearch.best_params_)"
   ]
  },
  {
   "cell_type": "code",
   "execution_count": 430,
   "metadata": {},
   "outputs": [
    {
     "name": "stdout",
     "output_type": "stream",
     "text": [
      "Accuracy on train is: 0.9185714285714286\n",
      "Accuracy on test is: 0.8333333333333334\n",
      "              precision    recall  f1-score   support\n",
      "\n",
      "           N       0.87      0.91      0.89       223\n",
      "           Y       0.70      0.61      0.65        77\n",
      "\n",
      "    accuracy                           0.83       300\n",
      "   macro avg       0.79      0.76      0.77       300\n",
      "weighted avg       0.83      0.83      0.83       300\n",
      "\n"
     ]
    }
   ],
   "source": [
    "gbClassiferGS = GradientBoostingClassifier(n_estimators=60, learning_rate=0.07)\n",
    "gbGS = gbClassiferGS.fit(X_fs_train, y_all_train)\n",
    "gbTrainPred_GS = gbGS.predict(X_fs_train)\n",
    "gbPred_GS = gbGS.predict(X_fs_test)\n",
    "print(\"Accuracy on train is:\",accuracy_score(y_all_train,gbTrainPred_GS))\n",
    "print(\"Accuracy on test is:\",accuracy_score(y_all_test, gbPred_GS))\n",
    "gbreport_GS = classification_report(y_all_test, gbPred_GS)\n",
    "print(gbreport_GS)"
   ]
  },
  {
   "cell_type": "markdown",
   "metadata": {},
   "source": [
    "## The final model we pick is 'gb_fs', using chi-squared feature selection"
   ]
  }
 ],
 "metadata": {
  "kernelspec": {
   "display_name": "Python 3",
   "language": "python",
   "name": "python3"
  },
  "language_info": {
   "codemirror_mode": {
    "name": "ipython",
    "version": 3
   },
   "file_extension": ".py",
   "mimetype": "text/x-python",
   "name": "python",
   "nbconvert_exporter": "python",
   "pygments_lexer": "ipython3",
   "version": "3.7.4"
  }
 },
 "nbformat": 4,
 "nbformat_minor": 2
}
